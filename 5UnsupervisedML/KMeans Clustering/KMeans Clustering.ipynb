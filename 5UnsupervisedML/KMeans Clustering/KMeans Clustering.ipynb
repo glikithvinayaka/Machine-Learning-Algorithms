{
 "cells": [
  {
   "cell_type": "code",
   "execution_count": 1,
   "metadata": {},
   "outputs": [
    {
     "data": {
      "text/plain": [
       "(400, 4)"
      ]
     },
     "execution_count": 1,
     "metadata": {},
     "output_type": "execute_result"
    }
   ],
   "source": [
    "import pandas as pd\n",
    "df=pd.read_csv('binary.csv')\n",
    "df.shape"
   ]
  },
  {
   "cell_type": "code",
   "execution_count": 2,
   "metadata": {},
   "outputs": [
    {
     "data": {
      "text/html": [
       "<div>\n",
       "<style scoped>\n",
       "    .dataframe tbody tr th:only-of-type {\n",
       "        vertical-align: middle;\n",
       "    }\n",
       "\n",
       "    .dataframe tbody tr th {\n",
       "        vertical-align: top;\n",
       "    }\n",
       "\n",
       "    .dataframe thead th {\n",
       "        text-align: right;\n",
       "    }\n",
       "</style>\n",
       "<table border=\"1\" class=\"dataframe\">\n",
       "  <thead>\n",
       "    <tr style=\"text-align: right;\">\n",
       "      <th></th>\n",
       "      <th>admit</th>\n",
       "      <th>gre</th>\n",
       "      <th>gpa</th>\n",
       "      <th>rank</th>\n",
       "    </tr>\n",
       "  </thead>\n",
       "  <tbody>\n",
       "    <tr>\n",
       "      <th>0</th>\n",
       "      <td>0</td>\n",
       "      <td>380</td>\n",
       "      <td>3.61</td>\n",
       "      <td>3</td>\n",
       "    </tr>\n",
       "    <tr>\n",
       "      <th>1</th>\n",
       "      <td>1</td>\n",
       "      <td>660</td>\n",
       "      <td>3.67</td>\n",
       "      <td>3</td>\n",
       "    </tr>\n",
       "    <tr>\n",
       "      <th>2</th>\n",
       "      <td>1</td>\n",
       "      <td>800</td>\n",
       "      <td>4.00</td>\n",
       "      <td>1</td>\n",
       "    </tr>\n",
       "    <tr>\n",
       "      <th>3</th>\n",
       "      <td>1</td>\n",
       "      <td>640</td>\n",
       "      <td>3.19</td>\n",
       "      <td>4</td>\n",
       "    </tr>\n",
       "    <tr>\n",
       "      <th>4</th>\n",
       "      <td>0</td>\n",
       "      <td>520</td>\n",
       "      <td>2.93</td>\n",
       "      <td>4</td>\n",
       "    </tr>\n",
       "  </tbody>\n",
       "</table>\n",
       "</div>"
      ],
      "text/plain": [
       "   admit  gre   gpa  rank\n",
       "0      0  380  3.61     3\n",
       "1      1  660  3.67     3\n",
       "2      1  800  4.00     1\n",
       "3      1  640  3.19     4\n",
       "4      0  520  2.93     4"
      ]
     },
     "execution_count": 2,
     "metadata": {},
     "output_type": "execute_result"
    }
   ],
   "source": [
    "df.head()"
   ]
  },
  {
   "cell_type": "code",
   "execution_count": 5,
   "metadata": {},
   "outputs": [
    {
     "data": {
      "text/plain": [
       "array([2, 0, 0, 1, 1, 0, 1, 2, 1, 0, 0, 2, 0, 0, 0, 2, 0, 2, 0, 1, 1, 0,\n",
       "       1, 0, 0, 0, 1, 1, 0, 1, 1, 0, 1, 0, 2, 2, 1, 1, 1, 1, 1, 1, 1, 1,\n",
       "       0, 2, 1, 1, 2, 2, 1, 2, 0, 0, 0, 0, 1, 2, 2, 1, 1, 1, 1, 0, 1, 1,\n",
       "       0, 1, 1, 0, 1, 2, 2, 1, 0, 0, 1, 0, 1, 1, 0, 1, 1, 2, 1, 1, 1, 1,\n",
       "       0, 0, 0, 0, 0, 1, 0, 0, 1, 2, 0, 2, 2, 1, 2, 1, 0, 0, 0, 2, 2, 2,\n",
       "       0, 2, 2, 1, 0, 1, 2, 0, 0, 2, 1, 2, 1, 1, 0, 1, 1, 0, 1, 2, 1, 1,\n",
       "       1, 1, 1, 1, 1, 0, 1, 1, 1, 0, 1, 1, 1, 2, 2, 1, 2, 0, 0, 2, 1, 1,\n",
       "       1, 1, 1, 2, 0, 0, 1, 1, 0, 1, 1, 0, 2, 0, 1, 1, 2, 1, 0, 0, 1, 1,\n",
       "       1, 1, 1, 2, 1, 1, 0, 1, 1, 0, 1, 1, 1, 1, 1, 0, 1, 2, 1, 1, 0, 2,\n",
       "       1, 1, 0, 1, 0, 2, 1, 0, 0, 1, 1, 1, 0, 1, 2, 1, 1, 0, 2, 2, 2, 1,\n",
       "       1, 0, 2, 0, 0, 0, 1, 1, 2, 0, 1, 1, 2, 2, 0, 1, 0, 2, 1, 0, 2, 1,\n",
       "       0, 1, 1, 0, 0, 2, 0, 1, 0, 1, 1, 1, 0, 1, 1, 1, 1, 1, 0, 2, 1, 1,\n",
       "       1, 2, 1, 1, 0, 1, 1, 1, 0, 0, 1, 1, 2, 1, 0, 0, 0, 2, 0, 1, 2, 1,\n",
       "       0, 0, 0, 2, 1, 0, 0, 0, 2, 1, 1, 2, 1, 0, 1, 0, 2, 0, 2, 1, 1, 1,\n",
       "       1, 2, 1, 0, 0, 1, 1, 2, 2, 0, 2, 1, 2, 2, 1, 2, 1, 0, 0, 1, 1, 1,\n",
       "       0, 0, 2, 1, 2, 1, 1, 1, 1, 0, 1, 1, 1, 1, 1, 1, 1, 1, 2, 1, 0, 1,\n",
       "       1, 0, 1, 0, 0, 0, 1, 0, 1, 1, 0, 2, 1, 2, 2, 1, 1, 0, 1, 0, 0, 1,\n",
       "       1, 1, 1, 0, 1, 1, 0, 1, 1, 0, 2, 2, 0, 1, 1, 1, 0, 0, 1, 1, 2, 1,\n",
       "       1, 2, 0, 1], dtype=int32)"
      ]
     },
     "execution_count": 5,
     "metadata": {},
     "output_type": "execute_result"
    }
   ],
   "source": [
    "from sklearn.cluster import KMeans\n",
    "kmeans=KMeans(n_clusters=3)\n",
    "kmeans.fit(df)\n",
    "segment=kmeans.predict(df)\n",
    "segment"
   ]
  },
  {
   "cell_type": "code",
   "execution_count": 6,
   "metadata": {},
   "outputs": [
    {
     "data": {
      "text/plain": [
       "array([[4.22764228e-01, 7.20325203e+02, 3.54991870e+00, 2.38211382e+00],\n",
       "       [2.96482412e-01, 5.71155779e+02, 3.37396985e+00, 2.52763819e+00],\n",
       "       [2.05128205e-01, 4.20769231e+02, 3.17820513e+00, 2.53846154e+00]])"
      ]
     },
     "execution_count": 6,
     "metadata": {},
     "output_type": "execute_result"
    }
   ],
   "source": [
    "kmeans.cluster_centers_"
   ]
  },
  {
   "cell_type": "code",
   "execution_count": 8,
   "metadata": {},
   "outputs": [
    {
     "data": {
      "text/plain": [
       "933264.36589207"
      ]
     },
     "execution_count": 8,
     "metadata": {},
     "output_type": "execute_result"
    }
   ],
   "source": [
    "kmeans.inertia_   # sum of distance of record(or sample) to the closest centroid"
   ]
  },
  {
   "cell_type": "code",
   "execution_count": 9,
   "metadata": {},
   "outputs": [
    {
     "data": {
      "text/plain": [
       "534332.9413642474"
      ]
     },
     "execution_count": 9,
     "metadata": {},
     "output_type": "execute_result"
    }
   ],
   "source": [
    "from sklearn.cluster import KMeans\n",
    "kmeans = KMeans(n_clusters=4)\n",
    "kmeans.fit(df)\n",
    "segment = kmeans.predict(df)\n",
    "kmeans.inertia_"
   ]
  },
  {
   "cell_type": "code",
   "execution_count": 10,
   "metadata": {},
   "outputs": [
    {
     "data": {
      "text/plain": [
       "334909.44066450273"
      ]
     },
     "execution_count": 10,
     "metadata": {},
     "output_type": "execute_result"
    }
   ],
   "source": [
    "from sklearn.cluster import KMeans\n",
    "kmeans = KMeans(n_clusters=5)\n",
    "kmeans.fit(df)\n",
    "segment = kmeans.predict(df)\n",
    "kmeans.inertia_"
   ]
  },
  {
   "cell_type": "code",
   "execution_count": 11,
   "metadata": {},
   "outputs": [],
   "source": [
    "#As number of clusters increase the inertia decreases"
   ]
  },
  {
   "cell_type": "code",
   "execution_count": 12,
   "metadata": {},
   "outputs": [
    {
     "data": {
      "text/plain": [
       "236734.71024988545"
      ]
     },
     "execution_count": 12,
     "metadata": {},
     "output_type": "execute_result"
    }
   ],
   "source": [
    "from sklearn.cluster import KMeans\n",
    "kmeans = KMeans(n_clusters=6)\n",
    "kmeans.fit(df)\n",
    "segment = kmeans.predict(df)\n",
    "kmeans.inertia_"
   ]
  },
  {
   "cell_type": "code",
   "execution_count": 16,
   "metadata": {},
   "outputs": [
    {
     "data": {
      "text/plain": [
       "{1: 5324784.375096,\n",
       " 2: 1840874.9651701131,\n",
       " 3: 918253.1532490246,\n",
       " 4: 529987.9260197427,\n",
       " 5: 336765.2652974319,\n",
       " 6: 237755.54191041808,\n",
       " 7: 168619.44981603455,\n",
       " 8: 129412.38881767778,\n",
       " 9: 101820.25861773512,\n",
       " 10: 80706.25725312025,\n",
       " 11: 65619.79914701649,\n",
       " 12: 51393.83231707238,\n",
       " 13: 43181.89161032835,\n",
       " 14: 39390.775647892544,\n",
       " 15: 36188.51795644995,\n",
       " 16: 28794.735062980697,\n",
       " 17: 23323.871039647704,\n",
       " 18: 18199.99713757034,\n",
       " 19: 15063.61302025026,\n",
       " 20: 10731.757807193346,\n",
       " 21: 7796.181102647883,\n",
       " 22: 5749.284483769098,\n",
       " 23: 4226.78009721767,\n",
       " 24: 2246.867524580585}"
      ]
     },
     "execution_count": 16,
     "metadata": {},
     "output_type": "execute_result"
    }
   ],
   "source": [
    "#To check for optimal inertia\n",
    "inertia={} #Dict\n",
    "for k in range(1,25):\n",
    "    kmeans=KMeans(n_clusters=k).fit(df)\n",
    "    inertia[k]=kmeans.inertia_\n",
    "\n",
    "inertia"
   ]
  },
  {
   "cell_type": "code",
   "execution_count": 21,
   "metadata": {},
   "outputs": [
    {
     "data": {
      "text/plain": [
       "Text(0, 0.5, 'Inertia')"
      ]
     },
     "execution_count": 21,
     "metadata": {},
     "output_type": "execute_result"
    },
    {
     "data": {
      "image/png": "[encoded data removed]",
      "text/plain": [
       "<Figure size 432x288 with 1 Axes>"
      ]
     },
     "metadata": {
      "needs_background": "light"
     },
     "output_type": "display_data"
    }
   ],
   "source": [
    "import matplotlib.pyplot as plt\n",
    "plt.plot(list(inertia.keys()),list(inertia.values()))\n",
    "plt.xlabel('Number of clusters')\n",
    "plt.ylabel('Inertia')"
   ]
  },
  {
   "cell_type": "code",
   "execution_count": null,
   "metadata": {},
   "outputs": [],
   "source": []
  }
 ],
 "metadata": {
  "kernelspec": {
   "display_name": "Python 3",
   "language": "python",
   "name": "python3"
  },
  "language_info": {
   "codemirror_mode": {
    "name": "ipython",
    "version": 3
   },
   "file_extension": ".py",
   "mimetype": "text/x-python",
   "name": "python",
   "nbconvert_exporter": "python",
   "pygments_lexer": "ipython3",
   "version": "3.7.6"
  }
 },
 "nbformat": 4,
 "nbformat_minor": 4
}
