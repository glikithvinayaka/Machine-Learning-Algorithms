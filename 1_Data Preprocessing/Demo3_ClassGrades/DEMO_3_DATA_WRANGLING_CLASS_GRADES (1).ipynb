{
 "cells": [
  {
   "cell_type": "markdown",
   "id": "14ee71af",
   "metadata": {},
   "source": [
    "## Import Libraries"
   ]
  },
  {
   "cell_type": "code",
   "execution_count": 1,
   "id": "e3c3be86",
   "metadata": {
    "ExecuteTime": {
     "end_time": "2022-05-10T17:10:38.935763Z",
     "start_time": "2022-05-10T17:10:38.917222Z"
    }
   },
   "outputs": [],
   "source": [
    "import pandas as pd \n",
    "import numpy as np\n",
    "import seaborn as sns\n",
    "import matplotlib.pyplot as plt\n",
    "sns.set()"
   ]
  },
  {
   "cell_type": "markdown",
   "id": "2743f0c6",
   "metadata": {},
   "source": [
    "## Load the Dataset"
   ]
  },
  {
   "cell_type": "code",
   "execution_count": 2,
   "id": "96014be3",
   "metadata": {
    "ExecuteTime": {
     "end_time": "2022-05-10T17:10:38.998836Z",
     "start_time": "2022-05-10T17:10:38.953287Z"
    }
   },
   "outputs": [
    {
     "data": {
      "text/html": [
       "<div>\n",
       "<style scoped>\n",
       "    .dataframe tbody tr th:only-of-type {\n",
       "        vertical-align: middle;\n",
       "    }\n",
       "\n",
       "    .dataframe tbody tr th {\n",
       "        vertical-align: top;\n",
       "    }\n",
       "\n",
       "    .dataframe thead th {\n",
       "        text-align: right;\n",
       "    }\n",
       "</style>\n",
       "<table border=\"1\" class=\"dataframe\">\n",
       "  <thead>\n",
       "    <tr style=\"text-align: right;\">\n",
       "      <th></th>\n",
       "      <th>Prefix</th>\n",
       "      <th>Assignment</th>\n",
       "      <th>Tutorial</th>\n",
       "      <th>Midterm</th>\n",
       "      <th>TakeHome</th>\n",
       "      <th>Final</th>\n",
       "    </tr>\n",
       "  </thead>\n",
       "  <tbody>\n",
       "    <tr>\n",
       "      <th>0</th>\n",
       "      <td>5</td>\n",
       "      <td>57.14</td>\n",
       "      <td>34.09</td>\n",
       "      <td>64.38</td>\n",
       "      <td>51.48</td>\n",
       "      <td>52.50</td>\n",
       "    </tr>\n",
       "    <tr>\n",
       "      <th>1</th>\n",
       "      <td>8</td>\n",
       "      <td>95.05</td>\n",
       "      <td>105.49</td>\n",
       "      <td>67.50</td>\n",
       "      <td>99.07</td>\n",
       "      <td>68.33</td>\n",
       "    </tr>\n",
       "    <tr>\n",
       "      <th>2</th>\n",
       "      <td>8</td>\n",
       "      <td>83.70</td>\n",
       "      <td>83.17</td>\n",
       "      <td>30.00</td>\n",
       "      <td>63.15</td>\n",
       "      <td>48.89</td>\n",
       "    </tr>\n",
       "    <tr>\n",
       "      <th>3</th>\n",
       "      <td>7</td>\n",
       "      <td>81.22</td>\n",
       "      <td>96.06</td>\n",
       "      <td>49.38</td>\n",
       "      <td>105.93</td>\n",
       "      <td>80.56</td>\n",
       "    </tr>\n",
       "    <tr>\n",
       "      <th>4</th>\n",
       "      <td>8</td>\n",
       "      <td>91.32</td>\n",
       "      <td>93.64</td>\n",
       "      <td>95.00</td>\n",
       "      <td>107.41</td>\n",
       "      <td>73.89</td>\n",
       "    </tr>\n",
       "  </tbody>\n",
       "</table>\n",
       "</div>"
      ],
      "text/plain": [
       "   Prefix  Assignment  Tutorial  Midterm  TakeHome  Final\n",
       "0       5       57.14     34.09    64.38     51.48  52.50\n",
       "1       8       95.05    105.49    67.50     99.07  68.33\n",
       "2       8       83.70     83.17    30.00     63.15  48.89\n",
       "3       7       81.22     96.06    49.38    105.93  80.56\n",
       "4       8       91.32     93.64    95.00    107.41  73.89"
      ]
     },
     "execution_count": 2,
     "metadata": {},
     "output_type": "execute_result"
    }
   ],
   "source": [
    "# class-grades.csv\n",
    "df = pd.read_csv('class-grades.csv')\n",
    "df.head()"
   ]
  },
  {
   "cell_type": "code",
   "execution_count": 3,
   "id": "9ffc4914",
   "metadata": {
    "ExecuteTime": {
     "end_time": "2022-05-10T17:10:39.014316Z",
     "start_time": "2022-05-10T17:10:39.001830Z"
    }
   },
   "outputs": [
    {
     "data": {
      "text/plain": [
       "(99, 6)"
      ]
     },
     "execution_count": 3,
     "metadata": {},
     "output_type": "execute_result"
    }
   ],
   "source": [
    "df.shape"
   ]
  },
  {
   "cell_type": "markdown",
   "id": "130fde8a",
   "metadata": {},
   "source": [
    "## Missing Values"
   ]
  },
  {
   "cell_type": "code",
   "execution_count": 4,
   "id": "877249b1",
   "metadata": {
    "ExecuteTime": {
     "end_time": "2022-05-10T17:10:39.045900Z",
     "start_time": "2022-05-10T17:10:39.021848Z"
    }
   },
   "outputs": [
    {
     "data": {
      "text/plain": [
       "Prefix        0\n",
       "Assignment    0\n",
       "Tutorial      0\n",
       "Midterm       0\n",
       "TakeHome      1\n",
       "Final         3\n",
       "dtype: int64"
      ]
     },
     "execution_count": 4,
     "metadata": {},
     "output_type": "execute_result"
    }
   ],
   "source": [
    "df.isnull().sum()"
   ]
  },
  {
   "cell_type": "code",
   "execution_count": 5,
   "id": "7e45dae6",
   "metadata": {
    "ExecuteTime": {
     "end_time": "2022-05-10T17:10:39.092902Z",
     "start_time": "2022-05-10T17:10:39.051893Z"
    }
   },
   "outputs": [
    {
     "name": "stdout",
     "output_type": "stream",
     "text": [
      "<class 'pandas.core.frame.DataFrame'>\n",
      "RangeIndex: 99 entries, 0 to 98\n",
      "Data columns (total 6 columns):\n",
      " #   Column      Non-Null Count  Dtype  \n",
      "---  ------      --------------  -----  \n",
      " 0   Prefix      99 non-null     int64  \n",
      " 1   Assignment  99 non-null     float64\n",
      " 2   Tutorial    99 non-null     float64\n",
      " 3   Midterm     99 non-null     float64\n",
      " 4   TakeHome    98 non-null     float64\n",
      " 5   Final       96 non-null     float64\n",
      "dtypes: float64(5), int64(1)\n",
      "memory usage: 4.8 KB\n"
     ]
    }
   ],
   "source": [
    "df.info()"
   ]
  },
  {
   "cell_type": "markdown",
   "id": "9b203560",
   "metadata": {},
   "source": [
    "## Missing Value Imputation"
   ]
  },
  {
   "cell_type": "code",
   "execution_count": 6,
   "id": "71ca7862",
   "metadata": {
    "ExecuteTime": {
     "end_time": "2022-05-10T17:10:39.108932Z",
     "start_time": "2022-05-10T17:10:39.095895Z"
    }
   },
   "outputs": [],
   "source": [
    "# Import SimpleImputer Function\n",
    "from sklearn.impute import SimpleImputer"
   ]
  },
  {
   "cell_type": "code",
   "execution_count": 7,
   "id": "7c81f5ee",
   "metadata": {
    "ExecuteTime": {
     "end_time": "2022-05-10T17:10:39.124409Z",
     "start_time": "2022-05-10T17:10:39.113917Z"
    }
   },
   "outputs": [],
   "source": [
    "# Create SimpleImputer Object\n",
    "si = SimpleImputer(strategy='mean')"
   ]
  },
  {
   "cell_type": "code",
   "execution_count": 8,
   "id": "1611c074",
   "metadata": {
    "ExecuteTime": {
     "end_time": "2022-05-10T17:10:39.171789Z",
     "start_time": "2022-05-10T17:10:39.128451Z"
    }
   },
   "outputs": [
    {
     "data": {
      "text/html": [
       "<div>\n",
       "<style scoped>\n",
       "    .dataframe tbody tr th:only-of-type {\n",
       "        vertical-align: middle;\n",
       "    }\n",
       "\n",
       "    .dataframe tbody tr th {\n",
       "        vertical-align: top;\n",
       "    }\n",
       "\n",
       "    .dataframe thead th {\n",
       "        text-align: right;\n",
       "    }\n",
       "</style>\n",
       "<table border=\"1\" class=\"dataframe\">\n",
       "  <thead>\n",
       "    <tr style=\"text-align: right;\">\n",
       "      <th></th>\n",
       "      <th>Prefix</th>\n",
       "      <th>Assignment</th>\n",
       "      <th>Tutorial</th>\n",
       "      <th>Midterm</th>\n",
       "      <th>TakeHome</th>\n",
       "      <th>Final</th>\n",
       "    </tr>\n",
       "  </thead>\n",
       "  <tbody>\n",
       "    <tr>\n",
       "      <th>0</th>\n",
       "      <td>5.0</td>\n",
       "      <td>57.14</td>\n",
       "      <td>34.09</td>\n",
       "      <td>64.38</td>\n",
       "      <td>51.48</td>\n",
       "      <td>52.50</td>\n",
       "    </tr>\n",
       "    <tr>\n",
       "      <th>1</th>\n",
       "      <td>8.0</td>\n",
       "      <td>95.05</td>\n",
       "      <td>105.49</td>\n",
       "      <td>67.50</td>\n",
       "      <td>99.07</td>\n",
       "      <td>68.33</td>\n",
       "    </tr>\n",
       "    <tr>\n",
       "      <th>2</th>\n",
       "      <td>8.0</td>\n",
       "      <td>83.70</td>\n",
       "      <td>83.17</td>\n",
       "      <td>30.00</td>\n",
       "      <td>63.15</td>\n",
       "      <td>48.89</td>\n",
       "    </tr>\n",
       "    <tr>\n",
       "      <th>3</th>\n",
       "      <td>7.0</td>\n",
       "      <td>81.22</td>\n",
       "      <td>96.06</td>\n",
       "      <td>49.38</td>\n",
       "      <td>105.93</td>\n",
       "      <td>80.56</td>\n",
       "    </tr>\n",
       "    <tr>\n",
       "      <th>4</th>\n",
       "      <td>8.0</td>\n",
       "      <td>91.32</td>\n",
       "      <td>93.64</td>\n",
       "      <td>95.00</td>\n",
       "      <td>107.41</td>\n",
       "      <td>73.89</td>\n",
       "    </tr>\n",
       "  </tbody>\n",
       "</table>\n",
       "</div>"
      ],
      "text/plain": [
       "   Prefix  Assignment  Tutorial  Midterm  TakeHome  Final\n",
       "0     5.0       57.14     34.09    64.38     51.48  52.50\n",
       "1     8.0       95.05    105.49    67.50     99.07  68.33\n",
       "2     8.0       83.70     83.17    30.00     63.15  48.89\n",
       "3     7.0       81.22     96.06    49.38    105.93  80.56\n",
       "4     8.0       91.32     93.64    95.00    107.41  73.89"
      ]
     },
     "execution_count": 8,
     "metadata": {},
     "output_type": "execute_result"
    }
   ],
   "source": [
    "# get the imputed array output\n",
    "imputed_array = si.fit_transform(df)\n",
    "df = pd.DataFrame(imputed_array, columns=df.columns)\n",
    "df.head()\n",
    "\n"
   ]
  },
  {
   "cell_type": "code",
   "execution_count": 9,
   "id": "3406d3cb",
   "metadata": {
    "ExecuteTime": {
     "end_time": "2022-05-10T17:10:39.203282Z",
     "start_time": "2022-05-10T17:10:39.179291Z"
    }
   },
   "outputs": [
    {
     "data": {
      "text/plain": [
       "Prefix        0\n",
       "Assignment    0\n",
       "Tutorial      0\n",
       "Midterm       0\n",
       "TakeHome      0\n",
       "Final         0\n",
       "dtype: int64"
      ]
     },
     "execution_count": 9,
     "metadata": {},
     "output_type": "execute_result"
    }
   ],
   "source": [
    "df.isnull().sum()"
   ]
  },
  {
   "cell_type": "markdown",
   "id": "69fa460e",
   "metadata": {},
   "source": [
    "## Outliers"
   ]
  },
  {
   "cell_type": "code",
   "execution_count": 10,
   "id": "346288a7",
   "metadata": {
    "ExecuteTime": {
     "end_time": "2022-05-10T17:10:47.773627Z",
     "start_time": "2022-05-10T17:10:46.236582Z"
    }
   },
   "outputs": [
    {
     "data": {
      "image/png": "[encoded data removed]",
      "text/plain": [
       "<Figure size 864x576 with 6 Axes>"
      ]
     },
     "metadata": {},
     "output_type": "display_data"
    }
   ],
   "source": [
    "df.plot(kind = 'box', subplots = True, figsize = (12,8), notch=False)\n",
    "plt.tight_layout();"
   ]
  },
  {
   "cell_type": "code",
   "execution_count": 11,
   "id": "6b479f9a",
   "metadata": {
    "ExecuteTime": {
     "end_time": "2022-05-10T17:11:12.914113Z",
     "start_time": "2022-05-10T17:11:12.898606Z"
    }
   },
   "outputs": [],
   "source": [
    "# Check for outliers the features\n",
    "def ol_limits(cols):\n",
    "    q1,q3 = df[cols].quantile([.25, .75])\n",
    "    IQR = q3 - q1\n",
    "    UL = q3 + (1.5*IQR)\n",
    "    LL = q1 - (1.5*IQR)\n",
    "    return LL, UL\n"
   ]
  },
  {
   "cell_type": "code",
   "execution_count": 12,
   "id": "444101a5",
   "metadata": {
    "ExecuteTime": {
     "end_time": "2022-05-10T17:11:26.229768Z",
     "start_time": "2022-05-10T17:11:26.201246Z"
    }
   },
   "outputs": [],
   "source": [
    "# cap the outliers on the higher end and floor the outliers at the lower end\n",
    "for columns in df.columns:\n",
    "    LL,UL = ol_limits(columns)\n",
    "    df[columns] = np.where(df[columns] < LL, LL, df[columns])\n",
    "    df[columns] = np.where(df[columns] > UL, UL, df[columns])"
   ]
  },
  {
   "cell_type": "code",
   "execution_count": 13,
   "id": "c7e222b8",
   "metadata": {
    "ExecuteTime": {
     "end_time": "2022-05-10T17:11:33.053512Z",
     "start_time": "2022-05-10T17:11:31.433147Z"
    }
   },
   "outputs": [
    {
     "data": {
      "image/png": "[encoded data removed]",
      "text/plain": [
       "<Figure size 864x576 with 6 Axes>"
      ]
     },
     "metadata": {},
     "output_type": "display_data"
    }
   ],
   "source": [
    "df.plot(kind = 'box', subplots = True, figsize = (12,8), notch=False) #sns.boxplot()\n",
    "plt.tight_layout();"
   ]
  },
  {
   "cell_type": "code",
   "execution_count": null,
   "id": "75af0548-8eb8-494c-962e-0a75656f2d7b",
   "metadata": {},
   "outputs": [],
   "source": []
  }
 ],
 "metadata": {
  "kernelspec": {
   "display_name": "Python 3",
   "language": "python",
   "name": "python3"
  },
  "language_info": {
   "codemirror_mode": {
    "name": "ipython",
    "version": 3
   },
   "file_extension": ".py",
   "mimetype": "text/x-python",
   "name": "python",
   "nbconvert_exporter": "python",
   "pygments_lexer": "ipython3",
   "version": "3.7.6"
  },
  "toc": {
   "base_numbering": 1,
   "nav_menu": {},
   "number_sections": true,
   "sideBar": true,
   "skip_h1_title": true,
   "title_cell": "Table of Contents",
   "title_sidebar": "Contents",
   "toc_cell": false,
   "toc_position": {},
   "toc_section_display": true,
   "toc_window_display": false
  }
 },
 "nbformat": 4,
 "nbformat_minor": 5
}
