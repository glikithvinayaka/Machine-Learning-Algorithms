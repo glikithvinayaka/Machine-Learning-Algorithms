{
 "cells": [
  {
   "cell_type": "code",
   "execution_count": 1,
   "metadata": {},
   "outputs": [],
   "source": [
    "#Load libraries\n",
    "import pandas as pd\n",
    "import numpy as np"
   ]
  },
  {
   "cell_type": "code",
   "execution_count": 2,
   "metadata": {},
   "outputs": [],
   "source": [
    "#Load Data\n",
    "df_salgender=pd.read_csv('SalaryGender.csv')"
   ]
  },
  {
   "cell_type": "code",
   "execution_count": 4,
   "metadata": {},
   "outputs": [
    {
     "data": {
      "text/html": [
       "<div>\n",
       "<style scoped>\n",
       "    .dataframe tbody tr th:only-of-type {\n",
       "        vertical-align: middle;\n",
       "    }\n",
       "\n",
       "    .dataframe tbody tr th {\n",
       "        vertical-align: top;\n",
       "    }\n",
       "\n",
       "    .dataframe thead th {\n",
       "        text-align: right;\n",
       "    }\n",
       "</style>\n",
       "<table border=\"1\" class=\"dataframe\">\n",
       "  <thead>\n",
       "    <tr style=\"text-align: right;\">\n",
       "      <th></th>\n",
       "      <th>Salary</th>\n",
       "      <th>Gender</th>\n",
       "      <th>Age</th>\n",
       "      <th>PhD</th>\n",
       "    </tr>\n",
       "  </thead>\n",
       "  <tbody>\n",
       "    <tr>\n",
       "      <th>0</th>\n",
       "      <td>140.0</td>\n",
       "      <td>1</td>\n",
       "      <td>47</td>\n",
       "      <td>1</td>\n",
       "    </tr>\n",
       "    <tr>\n",
       "      <th>1</th>\n",
       "      <td>30.0</td>\n",
       "      <td>0</td>\n",
       "      <td>65</td>\n",
       "      <td>1</td>\n",
       "    </tr>\n",
       "    <tr>\n",
       "      <th>2</th>\n",
       "      <td>35.1</td>\n",
       "      <td>0</td>\n",
       "      <td>56</td>\n",
       "      <td>0</td>\n",
       "    </tr>\n",
       "    <tr>\n",
       "      <th>3</th>\n",
       "      <td>30.0</td>\n",
       "      <td>1</td>\n",
       "      <td>23</td>\n",
       "      <td>0</td>\n",
       "    </tr>\n",
       "    <tr>\n",
       "      <th>4</th>\n",
       "      <td>80.0</td>\n",
       "      <td>0</td>\n",
       "      <td>53</td>\n",
       "      <td>1</td>\n",
       "    </tr>\n",
       "  </tbody>\n",
       "</table>\n",
       "</div>"
      ],
      "text/plain": [
       "   Salary  Gender  Age  PhD\n",
       "0   140.0       1   47    1\n",
       "1    30.0       0   65    1\n",
       "2    35.1       0   56    0\n",
       "3    30.0       1   23    0\n",
       "4    80.0       0   53    1"
      ]
     },
     "execution_count": 4,
     "metadata": {},
     "output_type": "execute_result"
    }
   ],
   "source": [
    "#Check first 5 records\n",
    "df_salgender.head(5)"
   ]
  },
  {
   "cell_type": "code",
   "execution_count": 9,
   "metadata": {},
   "outputs": [
    {
     "name": "stdout",
     "output_type": "stream",
     "text": [
      "[[140.     1.    47.     1.  ]\n",
      " [ 30.     0.    65.     1.  ]\n",
      " [ 35.1    0.    56.     0.  ]\n",
      " [ 30.     1.    23.     0.  ]\n",
      " [ 80.     0.    53.     1.  ]\n",
      " [ 30.     0.    27.     0.  ]\n",
      " [ 60.     1.    53.     0.  ]\n",
      " [ 31.1    0.    30.     0.  ]\n",
      " [125.     1.    44.     1.  ]\n",
      " [ 51.     1.    63.     1.  ]\n",
      " [  3.     1.    22.     0.  ]\n",
      " [ 46.     1.    59.     0.  ]\n",
      " [150.     1.    60.     1.  ]\n",
      " [  3.     1.    28.     0.  ]\n",
      " [130.     1.    65.     0.  ]\n",
      " [ 15.     0.    25.     0.  ]\n",
      " [130.     1.    65.     0.  ]\n",
      " [ 84.     0.    47.     1.  ]\n",
      " [190.     1.    66.     1.  ]\n",
      " [ 74.     1.    45.     1.  ]\n",
      " [ 73.     0.    46.     0.  ]\n",
      " [ 10.     0.    24.     0.  ]\n",
      " [ 50.     0.    60.     0.  ]\n",
      " [  7.     0.    63.     0.  ]\n",
      " [  9.5    0.    27.     0.  ]\n",
      " [ 15.2    1.    66.     1.  ]\n",
      " [ 28.6    1.    36.     1.  ]\n",
      " [ 20.     0.    30.     0.  ]\n",
      " [ 72.     0.    51.     1.  ]\n",
      " [ 81.     1.    65.     1.  ]\n",
      " [100.     0.    45.     1.  ]\n",
      " [ 90.     0.    52.     1.  ]\n",
      " [ 90.     0.    54.     1.  ]\n",
      " [ 35.     1.    30.     0.  ]\n",
      " [ 30.     0.    52.     0.  ]\n",
      " [ 25.     1.    26.     0.  ]\n",
      " [ 52.     0.    49.     0.  ]\n",
      " [  9.     0.    22.     0.  ]\n",
      " [ 63.     1.    34.     1.  ]\n",
      " [ 72.     1.    60.     0.  ]\n",
      " [ 16.     1.    28.     0.  ]\n",
      " [ 92.     0.    58.     1.  ]\n",
      " [106.     1.    77.     1.  ]\n",
      " [  2.5    1.    67.     0.  ]\n",
      " [  9.     0.    27.     0.  ]\n",
      " [ 32.     0.    48.     1.  ]\n",
      " [ 32.     0.    45.     0.  ]\n",
      " [ 55.     1.    49.     1.  ]\n",
      " [ 52.     1.    36.     0.  ]\n",
      " [ 28.     0.    65.     1.  ]\n",
      " [ 20.     0.    32.     0.  ]\n",
      " [ 14.7    0.    49.     0.  ]\n",
      " [ 22.3    1.    67.     0.  ]\n",
      " [ 34.8    0.    22.     0.  ]\n",
      " [ 84.     0.    49.     1.  ]\n",
      " [ 19.     1.    43.     0.  ]\n",
      " [160.     1.    61.     1.  ]\n",
      " [ 65.     0.    43.     1.  ]\n",
      " [ 55.     0.    52.     0.  ]\n",
      " [  4.6    1.    51.     0.  ]\n",
      " [102.     1.    66.     1.  ]\n",
      " [ 20.     1.    29.     0.  ]\n",
      " [ 62.     0.    62.     0.  ]\n",
      " [ 55.     1.    56.     1.  ]\n",
      " [ 45.6    1.    61.     0.  ]\n",
      " [ 40.     0.    56.     0.  ]\n",
      " [ 24.     0.    41.     0.  ]\n",
      " [ 35.     1.    24.     0.  ]\n",
      " [ 48.     0.    60.     0.  ]\n",
      " [ 20.     0.    43.     0.  ]\n",
      " [ 40.7    0.    57.     0.  ]\n",
      " [ 15.     1.    23.     0.  ]\n",
      " [  0.25   0.    53.     0.  ]\n",
      " [152.     1.    71.     1.  ]\n",
      " [ 39.8    0.    20.     0.  ]\n",
      " [ 12.     0.    27.     0.  ]\n",
      " [ 30.     1.    69.     1.  ]\n",
      " [120.     1.    58.     1.  ]\n",
      " [  1.7    1.    37.     0.  ]\n",
      " [ 36.     1.    32.     1.  ]\n",
      " [ 96.     1.    33.     1.  ]\n",
      " [ 38.     0.    32.     1.  ]\n",
      " [ 90.     1.    60.     0.  ]\n",
      " [  9.     1.    71.     0.  ]\n",
      " [ 25.8    0.    30.     0.  ]\n",
      " [ 22.     0.    62.     0.  ]\n",
      " [ 38.8    0.    54.     0.  ]\n",
      " [ 72.     1.    42.     1.  ]\n",
      " [ 89.     1.    62.     0.  ]\n",
      " [ 41.     0.    51.     1.  ]\n",
      " [ 89.     1.    71.     1.  ]\n",
      " [ 25.     0.    29.     0.  ]\n",
      " [ 52.     1.    55.     1.  ]\n",
      " [115.     0.    54.     0.  ]\n",
      " [ 66.     0.    55.     1.  ]\n",
      " [ 18.6    1.    26.     0.  ]\n",
      " [152.     1.    56.     1.  ]\n",
      " [  1.8    1.    28.     0.  ]\n",
      " [ 35.     0.    44.     0.  ]\n",
      " [  4.     0.    24.     0.  ]]\n"
     ]
    }
   ],
   "source": [
    "#Save each column as an array\n",
    "np_data=np.array(df_salgender)\n",
    "print(np_data)"
   ]
  },
  {
   "cell_type": "code",
   "execution_count": 13,
   "metadata": {},
   "outputs": [],
   "source": [
    "sal_array=np.array(df_salgender['Salary'])\n",
    "gender_array=np.array(df_salgender['Gender'])\n",
    "age_array=np.array(df_salgender['Age'])\n",
    "phd_array=np.array(df_salgender['PhD'])"
   ]
  },
  {
   "cell_type": "code",
   "execution_count": 14,
   "metadata": {},
   "outputs": [
    {
     "name": "stdout",
     "output_type": "stream",
     "text": [
      "[140.    30.    35.1   30.    80.    30.    60.    31.1  125.    51.\n",
      "   3.    46.   150.     3.   130.    15.   130.    84.   190.    74.\n",
      "  73.    10.    50.     7.     9.5   15.2   28.6   20.    72.    81.\n",
      " 100.    90.    90.    35.    30.    25.    52.     9.    63.    72.\n",
      "  16.    92.   106.     2.5    9.    32.    32.    55.    52.    28.\n",
      "  20.    14.7   22.3   34.8   84.    19.   160.    65.    55.     4.6\n",
      " 102.    20.    62.    55.    45.6   40.    24.    35.    48.    20.\n",
      "  40.7   15.     0.25 152.    39.8   12.    30.   120.     1.7   36.\n",
      "  96.    38.    90.     9.    25.8   22.    38.8   72.    89.    41.\n",
      "  89.    25.    52.   115.    66.    18.6  152.     1.8   35.     4.  ]\n",
      "[1 0 0 1 0 0 1 0 1 1 1 1 1 1 1 0 1 0 1 1 0 0 0 0 0 1 1 0 0 1 0 0 0 1 0 1 0\n",
      " 0 1 1 1 0 1 1 0 0 0 1 1 0 0 0 1 0 0 1 1 0 0 1 1 1 0 1 1 0 0 1 0 0 0 1 0 1\n",
      " 0 0 1 1 1 1 1 0 1 1 0 0 0 1 1 0 1 0 1 0 0 1 1 1 0 0]\n",
      "[47 65 56 23 53 27 53 30 44 63 22 59 60 28 65 25 65 47 66 45 46 24 60 63\n",
      " 27 66 36 30 51 65 45 52 54 30 52 26 49 22 34 60 28 58 77 67 27 48 45 49\n",
      " 36 65 32 49 67 22 49 43 61 43 52 51 66 29 62 56 61 56 41 24 60 43 57 23\n",
      " 53 71 20 27 69 58 37 32 33 32 60 71 30 62 54 42 62 51 71 29 55 54 55 26\n",
      " 56 28 44 24]\n",
      "[1 1 0 0 1 0 0 0 1 1 0 0 1 0 0 0 0 1 1 1 0 0 0 0 0 1 1 0 1 1 1 1 1 0 0 0 0\n",
      " 0 1 0 0 1 1 0 0 1 0 1 0 1 0 0 0 0 1 0 1 1 0 0 1 0 0 1 0 0 0 0 0 0 0 0 0 1\n",
      " 0 0 1 1 0 1 1 1 0 0 0 0 0 1 0 1 1 0 1 0 1 0 1 0 0 0]\n"
     ]
    }
   ],
   "source": [
    "print(sal_array)\n",
    "print(gender_array)\n",
    "print(age_array)\n",
    "print(phd_array)"
   ]
  },
  {
   "cell_type": "code",
   "execution_count": 15,
   "metadata": {},
   "outputs": [],
   "source": [
    "#Save the array\n",
    "np.save('sal_array.npy',sal_array)"
   ]
  },
  {
   "cell_type": "code",
   "execution_count": 16,
   "metadata": {},
   "outputs": [
    {
     "data": {
      "text/plain": [
       "(100, 4)"
      ]
     },
     "execution_count": 16,
     "metadata": {},
     "output_type": "execute_result"
    }
   ],
   "source": [
    "#Check Shape\n",
    "df_salgender.shape"
   ]
  },
  {
   "cell_type": "code",
   "execution_count": 17,
   "metadata": {},
   "outputs": [
    {
     "data": {
      "text/plain": [
       "pandas.core.frame.DataFrame"
      ]
     },
     "execution_count": 17,
     "metadata": {},
     "output_type": "execute_result"
    }
   ],
   "source": [
    "#Type of dataset\n",
    "type(df_salgender)"
   ]
  },
  {
   "cell_type": "code",
   "execution_count": null,
   "metadata": {},
   "outputs": [],
   "source": []
  }
 ],
 "metadata": {
  "kernelspec": {
   "display_name": "Python 3",
   "language": "python",
   "name": "python3"
  },
  "language_info": {
   "codemirror_mode": {
    "name": "ipython",
    "version": 3
   },
   "file_extension": ".py",
   "mimetype": "text/x-python",
   "name": "python",
   "nbconvert_exporter": "python",
   "pygments_lexer": "ipython3",
   "version": "3.7.6"
  }
 },
 "nbformat": 4,
 "nbformat_minor": 4
}
