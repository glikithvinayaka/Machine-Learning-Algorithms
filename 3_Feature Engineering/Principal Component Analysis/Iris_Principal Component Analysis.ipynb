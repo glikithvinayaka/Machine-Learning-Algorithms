{
 "cells": [
  {
   "cell_type": "code",
   "execution_count": 3,
   "metadata": {},
   "outputs": [],
   "source": [
    "#Import the libraries\n",
    "import pandas as pd\n",
    "import numpy as np\n",
    "import seaborn as sns\n",
    "import matplotlib.pyplot as plt\n",
    "sns.set()\n",
    "\n",
    "from sklearn.linear_model import LogisticRegression\n",
    "from sklearn.decomposition import PCA"
   ]
  },
  {
   "cell_type": "code",
   "execution_count": 5,
   "metadata": {},
   "outputs": [
    {
     "data": {
      "text/html": [
       "<div>\n",
       "<style scoped>\n",
       "    .dataframe tbody tr th:only-of-type {\n",
       "        vertical-align: middle;\n",
       "    }\n",
       "\n",
       "    .dataframe tbody tr th {\n",
       "        vertical-align: top;\n",
       "    }\n",
       "\n",
       "    .dataframe thead th {\n",
       "        text-align: right;\n",
       "    }\n",
       "</style>\n",
       "<table border=\"1\" class=\"dataframe\">\n",
       "  <thead>\n",
       "    <tr style=\"text-align: right;\">\n",
       "      <th></th>\n",
       "      <th>sepal_length</th>\n",
       "      <th>sepal_width</th>\n",
       "      <th>petal_length</th>\n",
       "      <th>petal_width</th>\n",
       "      <th>species</th>\n",
       "    </tr>\n",
       "  </thead>\n",
       "  <tbody>\n",
       "    <tr>\n",
       "      <th>0</th>\n",
       "      <td>5.1</td>\n",
       "      <td>3.5</td>\n",
       "      <td>1.4</td>\n",
       "      <td>0.2</td>\n",
       "      <td>setosa</td>\n",
       "    </tr>\n",
       "    <tr>\n",
       "      <th>1</th>\n",
       "      <td>4.9</td>\n",
       "      <td>3.0</td>\n",
       "      <td>1.4</td>\n",
       "      <td>0.2</td>\n",
       "      <td>setosa</td>\n",
       "    </tr>\n",
       "    <tr>\n",
       "      <th>2</th>\n",
       "      <td>4.7</td>\n",
       "      <td>3.2</td>\n",
       "      <td>1.3</td>\n",
       "      <td>0.2</td>\n",
       "      <td>setosa</td>\n",
       "    </tr>\n",
       "    <tr>\n",
       "      <th>3</th>\n",
       "      <td>4.6</td>\n",
       "      <td>3.1</td>\n",
       "      <td>1.5</td>\n",
       "      <td>0.2</td>\n",
       "      <td>setosa</td>\n",
       "    </tr>\n",
       "    <tr>\n",
       "      <th>4</th>\n",
       "      <td>5.0</td>\n",
       "      <td>3.6</td>\n",
       "      <td>1.4</td>\n",
       "      <td>0.2</td>\n",
       "      <td>setosa</td>\n",
       "    </tr>\n",
       "  </tbody>\n",
       "</table>\n",
       "</div>"
      ],
      "text/plain": [
       "   sepal_length  sepal_width  petal_length  petal_width species\n",
       "0           5.1          3.5           1.4          0.2  setosa\n",
       "1           4.9          3.0           1.4          0.2  setosa\n",
       "2           4.7          3.2           1.3          0.2  setosa\n",
       "3           4.6          3.1           1.5          0.2  setosa\n",
       "4           5.0          3.6           1.4          0.2  setosa"
      ]
     },
     "execution_count": 5,
     "metadata": {},
     "output_type": "execute_result"
    }
   ],
   "source": [
    "#Load the iris dataset\n",
    "df=sns.load_dataset('iris')\n",
    "df.head()"
   ]
  },
  {
   "cell_type": "code",
   "execution_count": 7,
   "metadata": {},
   "outputs": [
    {
     "data": {
      "text/plain": [
       "versicolor    0.333333\n",
       "setosa        0.333333\n",
       "virginica     0.333333\n",
       "Name: species, dtype: float64"
      ]
     },
     "execution_count": 7,
     "metadata": {},
     "output_type": "execute_result"
    }
   ],
   "source": [
    "#Check the target variables class proportions\n",
    "df['species'].value_counts(1)\n",
    "#So multi class Logistic regression"
   ]
  },
  {
   "cell_type": "code",
   "execution_count": 8,
   "metadata": {},
   "outputs": [
    {
     "data": {
      "text/plain": [
       "(150, 5)"
      ]
     },
     "execution_count": 8,
     "metadata": {},
     "output_type": "execute_result"
    }
   ],
   "source": [
    "df.shape"
   ]
  },
  {
   "cell_type": "code",
   "execution_count": 12,
   "metadata": {},
   "outputs": [
    {
     "data": {
      "text/html": [
       "<div>\n",
       "<style scoped>\n",
       "    .dataframe tbody tr th:only-of-type {\n",
       "        vertical-align: middle;\n",
       "    }\n",
       "\n",
       "    .dataframe tbody tr th {\n",
       "        vertical-align: top;\n",
       "    }\n",
       "\n",
       "    .dataframe thead th {\n",
       "        text-align: right;\n",
       "    }\n",
       "</style>\n",
       "<table border=\"1\" class=\"dataframe\">\n",
       "  <thead>\n",
       "    <tr style=\"text-align: right;\">\n",
       "      <th></th>\n",
       "      <th>sepal_length</th>\n",
       "      <th>sepal_width</th>\n",
       "      <th>petal_length</th>\n",
       "      <th>petal_width</th>\n",
       "    </tr>\n",
       "  </thead>\n",
       "  <tbody>\n",
       "    <tr>\n",
       "      <th>count</th>\n",
       "      <td>150.00</td>\n",
       "      <td>150.00</td>\n",
       "      <td>150.00</td>\n",
       "      <td>150.00</td>\n",
       "    </tr>\n",
       "    <tr>\n",
       "      <th>mean</th>\n",
       "      <td>5.84</td>\n",
       "      <td>3.06</td>\n",
       "      <td>3.76</td>\n",
       "      <td>1.20</td>\n",
       "    </tr>\n",
       "    <tr>\n",
       "      <th>std</th>\n",
       "      <td>0.83</td>\n",
       "      <td>0.44</td>\n",
       "      <td>1.77</td>\n",
       "      <td>0.76</td>\n",
       "    </tr>\n",
       "    <tr>\n",
       "      <th>min</th>\n",
       "      <td>4.30</td>\n",
       "      <td>2.00</td>\n",
       "      <td>1.00</td>\n",
       "      <td>0.10</td>\n",
       "    </tr>\n",
       "    <tr>\n",
       "      <th>25%</th>\n",
       "      <td>5.10</td>\n",
       "      <td>2.80</td>\n",
       "      <td>1.60</td>\n",
       "      <td>0.30</td>\n",
       "    </tr>\n",
       "    <tr>\n",
       "      <th>50%</th>\n",
       "      <td>5.80</td>\n",
       "      <td>3.00</td>\n",
       "      <td>4.35</td>\n",
       "      <td>1.30</td>\n",
       "    </tr>\n",
       "    <tr>\n",
       "      <th>75%</th>\n",
       "      <td>6.40</td>\n",
       "      <td>3.30</td>\n",
       "      <td>5.10</td>\n",
       "      <td>1.80</td>\n",
       "    </tr>\n",
       "    <tr>\n",
       "      <th>max</th>\n",
       "      <td>7.90</td>\n",
       "      <td>4.40</td>\n",
       "      <td>6.90</td>\n",
       "      <td>2.50</td>\n",
       "    </tr>\n",
       "  </tbody>\n",
       "</table>\n",
       "</div>"
      ],
      "text/plain": [
       "       sepal_length  sepal_width  petal_length  petal_width\n",
       "count        150.00       150.00        150.00       150.00\n",
       "mean           5.84         3.06          3.76         1.20\n",
       "std            0.83         0.44          1.77         0.76\n",
       "min            4.30         2.00          1.00         0.10\n",
       "25%            5.10         2.80          1.60         0.30\n",
       "50%            5.80         3.00          4.35         1.30\n",
       "75%            6.40         3.30          5.10         1.80\n",
       "max            7.90         4.40          6.90         2.50"
      ]
     },
     "execution_count": 12,
     "metadata": {},
     "output_type": "execute_result"
    }
   ],
   "source": [
    "#Describe the data - Statistical summary\n",
    "df.describe().round(2)"
   ]
  },
  {
   "cell_type": "code",
   "execution_count": 13,
   "metadata": {},
   "outputs": [],
   "source": [
    "#X,Y split\n",
    "x=df.drop(['species'],axis=1)\n",
    "y=df['species']"
   ]
  },
  {
   "cell_type": "code",
   "execution_count": 14,
   "metadata": {},
   "outputs": [],
   "source": [
    "#Train Test Split\n",
    "from sklearn.model_selection import train_test_split\n",
    "x_train,x_test,y_train,y_test=train_test_split(x,y,test_size=0.2,random_state=101)"
   ]
  },
  {
   "cell_type": "code",
   "execution_count": 15,
   "metadata": {},
   "outputs": [
    {
     "name": "stdout",
     "output_type": "stream",
     "text": [
      "(120, 4)\n",
      "(30, 4)\n"
     ]
    }
   ],
   "source": [
    "#Check Shape\n",
    "print(x_train.shape)\n",
    "print(x_test.shape)"
   ]
  },
  {
   "cell_type": "code",
   "execution_count": 21,
   "metadata": {},
   "outputs": [],
   "source": [
    "#Scaling the data - needed for PCA - because lot of matrix multiplication (After scaling values in each column\n",
    "#it converts values in each column to its Z-scores - z-score ((Each_value)-(mean_of_column))/(Standard_deviation_of_column)\n",
    "#Once scaling process is completed, 99% of the values will be between -3 to 3\n",
    "from sklearn.preprocessing import StandardScaler\n",
    "scaler=StandardScaler()\n",
    "x_train_scaled=scaler.fit_transform(x_train)\n",
    "#Scaler.fit(x_train)\n",
    "#scaler.transform(x_train)\n",
    "#Test dataset will only need need transform to avoid data leakage on to the model\n",
    "x_test_scaled=scaler.transform(x_test)"
   ]
  },
  {
   "cell_type": "code",
   "execution_count": 22,
   "metadata": {},
   "outputs": [
    {
     "data": {
      "text/plain": [
       "array([[ 0.76416119, -0.18596829,  1.1178787 ,  1.2484939 ],\n",
       "       [-0.42673937, -1.39880497,  0.10968747,  0.09800464],\n",
       "       [ 0.76416119, -0.18596829,  0.94984683,  0.73716534],\n",
       "       [-0.0694692 , -0.9136703 ,  0.05367685, -0.0298275 ],\n",
       "       [ 1.12143136, -0.18596829,  0.94984683,  1.12066176],\n",
       "       [-0.18855925, -0.67110296,  0.38974059,  0.09800464],\n",
       "       [ 1.0023413 ,  0.05659904,  0.50176184,  0.35366892],\n",
       "       [ 0.04962086, -0.18596829,  0.22170872,  0.35366892],\n",
       "       [-0.30764931, -0.9136703 ,  0.22170872,  0.09800464],\n",
       "       [ 2.19324186, -0.18596829,  1.28591057,  1.37632604],\n",
       "       [-0.90309959,  1.51200306, -1.29057812, -1.05248462],\n",
       "       [-1.49854987,  1.26943572, -1.57063124, -1.3081489 ],\n",
       "       [-1.37945981,  0.29916638, -1.2345675 , -1.3081489 ],\n",
       "       [ 1.0023413 , -0.18596829,  0.66979371,  0.6093332 ],\n",
       "       [-0.30764931, -0.18596829,  0.38974059,  0.35366892],\n",
       "       [-1.85582003, -0.18596829, -1.51462062, -1.43598104],\n",
       "       [ 1.47870152, -0.18596829,  1.17388932,  1.12066176],\n",
       "       [-0.0694692 , -0.9136703 ,  0.1656981 , -0.28549178],\n",
       "       [-1.1412797 ,  0.05659904, -1.29057812, -1.3081489 ],\n",
       "       [-0.90309959, -1.39880497, -0.45041877, -0.15765964],\n",
       "       [-0.30764931, -1.39880497,  0.05367685, -0.15765964],\n",
       "       [-0.90309959,  0.54173372, -1.17855687, -0.92465248],\n",
       "       [-0.0694692 , -0.9136703 ,  0.72580433,  0.86499748],\n",
       "       [-1.02218964,  1.26943572, -1.34658875, -1.3081489 ],\n",
       "       [-1.1412797 , -1.6413723 , -0.28238689, -0.28549178],\n",
       "       [ 1.0023413 , -1.39880497,  1.1178787 ,  0.73716534],\n",
       "       [-0.0694692 , -1.15623763,  0.10968747, -0.0298275 ],\n",
       "       [-1.1412797 ,  1.26943572, -1.34658875, -1.43598104],\n",
       "       [-0.90309959,  0.78430105, -1.29057812, -1.3081489 ],\n",
       "       [ 0.28780097, -0.18596829,  0.44575121,  0.22583678],\n",
       "       [-1.49854987,  0.78430105, -1.34658875, -1.18031676],\n",
       "       [ 0.64507113,  0.29916638,  0.38974059,  0.35366892],\n",
       "       [ 2.19324186, -1.15623763,  1.73399556,  1.37632604],\n",
       "       [ 0.52598108,  0.78430105,  1.00585745,  1.50415818],\n",
       "       [-0.54582942, -0.18596829,  0.38974059,  0.35366892],\n",
       "       [-0.0694692 ,  2.23970506, -1.45860999, -1.3081489 ],\n",
       "       [ 0.16871091, -0.42853563,  0.38974059,  0.35366892],\n",
       "       [-1.49854987,  0.05659904, -1.29057812, -1.3081489 ],\n",
       "       [-0.0694692 , -0.9136703 ,  0.72580433,  0.86499748],\n",
       "       [ 1.24052141,  0.29916638,  1.06186807,  1.37632604],\n",
       "       [ 0.16871091,  0.78430105,  0.38974059,  0.48150106],\n",
       "       [ 0.40689102,  0.78430105,  0.8938362 ,  1.37632604],\n",
       "       [ 0.88325125, -0.42853563,  0.44575121,  0.09800464],\n",
       "       [ 0.52598108,  0.54173372,  1.22989995,  1.63199032],\n",
       "       [-1.37945981,  0.29916638, -1.40259937, -1.3081489 ],\n",
       "       [-1.26036976, -0.18596829, -1.34658875, -1.18031676],\n",
       "       [-1.1412797 ,  0.05659904, -1.29057812, -1.43598104],\n",
       "       [ 0.76416119, -0.67110296,  0.44575121,  0.35366892],\n",
       "       [-1.49854987,  0.29916638, -1.34658875, -1.3081489 ],\n",
       "       [-0.90309959,  1.75457039, -1.2345675 , -1.3081489 ],\n",
       "       [-1.02218964,  0.78430105, -1.2345675 , -1.05248462],\n",
       "       [ 1.83597169, -0.67110296,  1.28591057,  0.86499748],\n",
       "       [-0.78400953,  1.02686839, -1.29057812, -1.3081489 ],\n",
       "       [-0.54582942,  0.78430105, -1.17855687, -1.3081489 ],\n",
       "       [ 0.16871091, -0.18596829,  0.55777246,  0.73716534],\n",
       "       [ 0.40689102, -0.67110296,  0.55777246,  0.73716534],\n",
       "       [-1.26036976,  0.05659904, -1.2345675 , -1.3081489 ],\n",
       "       [-1.02218964,  0.29916638, -1.45860999, -1.3081489 ],\n",
       "       [ 1.59779158,  0.29916638,  1.22989995,  0.73716534],\n",
       "       [ 1.59779158,  1.26943572,  1.28591057,  1.63199032],\n",
       "       [-0.18855925, -1.39880497,  0.66979371,  0.99282962],\n",
       "       [-1.26036976,  0.78430105, -1.06653563, -1.3081489 ],\n",
       "       [-0.18855925, -1.15623763, -0.17036565, -0.28549178],\n",
       "       [ 1.12143136,  0.29916638,  1.17388932,  1.37632604],\n",
       "       [-0.90309959,  1.02686839, -1.34658875, -1.18031676],\n",
       "       [-1.26036976, -0.18596829, -1.34658875, -1.43598104],\n",
       "       [ 0.16871091, -2.12650697,  0.66979371,  0.35366892],\n",
       "       [ 0.64507113, -0.67110296,  1.00585745,  1.12066176],\n",
       "       [-0.18855925,  3.2099744 , -1.29057812, -1.05248462],\n",
       "       [ 0.28780097, -0.67110296,  0.10968747,  0.09800464],\n",
       "       [-0.18855925,  1.75457039, -1.17855687, -1.18031676],\n",
       "       [-1.1412797 , -1.39880497,  0.38974059,  0.6093332 ],\n",
       "       [ 2.19324186,  1.75457039,  1.62197431,  1.2484939 ],\n",
       "       [-1.73672998, -0.18596829, -1.40259937, -1.3081489 ],\n",
       "       [ 0.52598108, -0.42853563,  1.00585745,  0.73716534],\n",
       "       [ 0.52598108,  0.54173372,  0.50176184,  0.48150106],\n",
       "       [ 1.24052141,  0.05659904,  0.61378309,  0.35366892],\n",
       "       [ 1.0023413 ,  0.54173372,  1.06186807,  1.12066176],\n",
       "       [-1.02218964,  0.78430105, -1.29057812, -1.3081489 ],\n",
       "       [ 1.24052141,  0.05659904,  0.8938362 ,  1.12066176],\n",
       "       [-0.78400953,  0.78430105, -1.34658875, -1.3081489 ],\n",
       "       [-0.18855925, -0.67110296,  0.1656981 ,  0.09800464],\n",
       "       [ 0.52598108, -0.67110296,  0.72580433,  0.35366892],\n",
       "       [-0.42673937,  1.02686839, -1.40259937, -1.3081489 ],\n",
       "       [ 0.16871091, -2.12650697,  0.10968747, -0.28549178],\n",
       "       [-1.73672998, -0.42853563, -1.34658875, -1.3081489 ],\n",
       "       [ 1.0023413 ,  0.05659904,  1.00585745,  1.50415818],\n",
       "       [ 0.28780097, -0.67110296,  0.50176184, -0.0298275 ],\n",
       "       [ 2.0741518 , -0.18596829,  1.56596369,  1.12066176],\n",
       "       [-0.90309959,  1.02686839, -1.34658875, -1.3081489 ],\n",
       "       [ 1.0023413 ,  0.54173372,  1.06186807,  1.63199032],\n",
       "       [ 1.71688164, -0.42853563,  1.39793182,  0.73716534],\n",
       "       [ 0.04962086, -0.18596829,  0.72580433,  0.73716534],\n",
       "       [ 1.12143136, -0.67110296,  0.55777246,  0.22583678],\n",
       "       [-0.54582942,  1.51200306, -1.29057812, -1.3081489 ],\n",
       "       [-0.90309959,  1.75457039, -1.29057812, -1.18031676],\n",
       "       [-0.30764931, -0.67110296,  0.61378309,  0.99282962],\n",
       "       [ 0.52598108, -1.39880497,  0.61378309,  0.35366892],\n",
       "       [-0.90309959,  1.75457039, -1.06653563, -1.05248462],\n",
       "       [-0.78400953, -0.9136703 ,  0.05367685,  0.22583678],\n",
       "       [ 2.43142197,  1.75457039,  1.45394244,  0.99282962],\n",
       "       [ 0.64507113,  0.29916638,  0.83782558,  1.37632604],\n",
       "       [ 0.64507113, -0.9136703 ,  0.83782558,  0.86499748],\n",
       "       [ 0.16871091, -0.9136703 ,  0.72580433,  0.48150106],\n",
       "       [-1.02218964,  0.54173372, -1.34658875, -1.3081489 ],\n",
       "       [ 1.24052141,  0.05659904,  0.72580433,  1.37632604],\n",
       "       [-0.54582942,  1.99713773, -1.17855687, -1.05248462],\n",
       "       [ 0.76416119,  0.29916638,  0.72580433,  0.99282962],\n",
       "       [-1.02218964, -2.61164164, -0.17036565, -0.28549178],\n",
       "       [ 1.0023413 , -0.18596829,  0.78181496,  1.37632604],\n",
       "       [ 0.64507113, -0.67110296,  1.00585745,  1.2484939 ],\n",
       "       [-1.02218964,  1.02686839, -1.40259937, -1.18031676],\n",
       "       [ 0.64507113,  0.05659904,  0.94984683,  0.73716534],\n",
       "       [ 0.88325125, -0.18596829,  0.33372997,  0.22583678],\n",
       "       [ 0.52598108, -1.88393964,  0.33372997,  0.09800464],\n",
       "       [ 0.28780097, -0.42853563,  0.50176184,  0.22583678],\n",
       "       [ 0.04962086,  0.29916638,  0.55777246,  0.73716534],\n",
       "       [-0.42673937, -1.6413723 , -0.0583444 , -0.28549178],\n",
       "       [-1.26036976,  0.78430105, -1.2345675 , -1.3081489 ],\n",
       "       [-0.18855925, -0.18596829,  0.22170872, -0.0298275 ]])"
      ]
     },
     "execution_count": 22,
     "metadata": {},
     "output_type": "execute_result"
    }
   ],
   "source": [
    "x_train_scaled"
   ]
  },
  {
   "cell_type": "code",
   "execution_count": 23,
   "metadata": {},
   "outputs": [
    {
     "data": {
      "text/plain": [
       "-1.0565622451016074e-15"
      ]
     },
     "execution_count": 23,
     "metadata": {},
     "output_type": "execute_result"
    }
   ],
   "source": [
    "x_train_scaled[:,1].mean() #Mean of  first column"
   ]
  },
  {
   "cell_type": "code",
   "execution_count": 24,
   "metadata": {},
   "outputs": [
    {
     "data": {
      "text/plain": [
       "0.9999999999999999"
      ]
     },
     "execution_count": 24,
     "metadata": {},
     "output_type": "execute_result"
    }
   ],
   "source": [
    "x_train_scaled[:,1].std() #STD of first column"
   ]
  },
  {
   "cell_type": "code",
   "execution_count": 26,
   "metadata": {},
   "outputs": [],
   "source": [
    "#Train and predict using a Logistic regression model\n",
    "#Fit logistic regression model and get its predictions on train and test datasets\n",
    "logreg=LogisticRegression()\n",
    "logreg.fit(x_train_scaled,y_train)\n",
    "train_pred=logreg.predict(x_train_scaled)\n",
    "test_pred=logreg.predict(x_test_scaled)"
   ]
  },
  {
   "cell_type": "code",
   "execution_count": 27,
   "metadata": {},
   "outputs": [
    {
     "data": {
      "text/plain": [
       "(0.9666666666666667, 0.9666666666666667)"
      ]
     },
     "execution_count": 27,
     "metadata": {},
     "output_type": "execute_result"
    }
   ],
   "source": [
    "#import accuracy score from sklearn.metrics and calculate the accuracy on train & test data  predictions\n",
    "from sklearn.metrics import accuracy_score\n",
    "train_acc=accuracy_score(y_train,train_pred)\n",
    "test_acc=accuracy_score(y_test,test_pred)\n",
    "train_acc,test_acc"
   ]
  },
  {
   "cell_type": "code",
   "execution_count": 28,
   "metadata": {},
   "outputs": [],
   "source": [
    "#Implement PCA to reduce dimensions\n",
    "#Create a PCA object to retain 95% of explainability\n",
    "pca=PCA(n_components=0.95) #0.95 means I want to lose only 5% of ability to explain the dataset\n",
    "pca.fit(x_train_scaled)\n",
    "#Transform the original training dataset\n",
    "x_train_trf=pca.transform(x_train_scaled)\n",
    "x_test_trf=pca.transform(x_test_scaled)"
   ]
  },
  {
   "cell_type": "code",
   "execution_count": 30,
   "metadata": {},
   "outputs": [
    {
     "data": {
      "text/plain": [
       "((120, 2), (30, 2))"
      ]
     },
     "execution_count": 30,
     "metadata": {},
     "output_type": "execute_result"
    }
   ],
   "source": [
    "x_train_trf.shape,x_test_trf.shape"
   ]
  },
  {
   "cell_type": "code",
   "execution_count": 31,
   "metadata": {},
   "outputs": [
    {
     "data": {
      "text/plain": [
       "array([[ 1.80493828, -0.21426637],\n",
       "       [ 0.25517327,  1.44497662],\n",
       "       [ 1.41820595, -0.17141317],\n",
       "       [ 0.21325761,  0.87781662],\n",
       "       [ 1.82305213, -0.32669546],\n",
       "       [ 0.35545092,  0.67683443],\n",
       "       [ 1.0039873 , -0.44280731],\n",
       "       [ 0.40276083,  0.12422613],\n",
       "       [ 0.25779311,  0.94835163],\n",
       "       [ 2.72656467, -0.73024854],\n",
       "       [-2.20922505, -0.9852658 ],\n",
       "       [-2.76710222, -0.52418125],\n",
       "       [-2.25927778,  0.33209822],\n",
       "       [ 1.30864723, -0.23969052],\n",
       "       [ 0.3123476 ,  0.2465219 ],\n",
       "       [-2.61967987,  0.96765863],\n",
       "       [ 2.14104661, -0.45689302],\n",
       "       [ 0.13368207,  0.89529232],\n",
       "       [-2.10396433,  0.47567551],\n",
       "       [-0.46513895,  1.6435746 ],\n",
       "       [ 0.14071226,  1.42394472],\n",
       "       [-1.82179701, -0.09244361],\n",
       "       [ 1.10949254,  0.79520394],\n",
       "       [-2.3864584 , -0.6962729 ],\n",
       "       [-0.50267584,  1.96007959],\n",
       "       [ 1.95367128,  0.87259532],\n",
       "       [ 0.30829558,  1.10292442],\n",
       "       [-2.52140712, -0.64451214],\n",
       "       [-2.16624472, -0.28682255],\n",
       "       [ 0.58580658,  0.04578933],\n",
       "       [-2.43970369, -0.08608998],\n",
       "       [ 0.68848967, -0.54110404],\n",
       "       [ 3.23676298,  0.16566736],\n",
       "       [ 1.50910968, -1.05290042],\n",
       "       [ 0.18704891,  0.33031007],\n",
       "       [-2.20039227, -1.93411444],\n",
       "       [ 0.62547136,  0.30518219],\n",
       "       [-2.29191237,  0.60135776],\n",
       "       [ 1.10949254,  0.79520394],\n",
       "       [ 1.97027073, -0.84305381],\n",
       "       [ 0.38513893, -0.83586764],\n",
       "       [ 1.30913774, -0.998882  ],\n",
       "       [ 0.88928031,  0.07242221],\n",
       "       [ 1.77398185, -0.84104578],\n",
       "       [-2.3568126 ,  0.3354847 ],\n",
       "       [-2.06429954,  0.73506837],\n",
       "       [-2.17626371,  0.48554218],\n",
       "       [ 1.03375608,  0.32081957],\n",
       "       [-2.38695034,  0.37624996],\n",
       "       [-2.38383856, -1.1928979 ],\n",
       "       [-2.0517837 , -0.26579065],\n",
       "       [ 2.37447184, -0.11262632],\n",
       "       [-2.16612173, -0.55495327],\n",
       "       [-1.91327345, -0.41476246],\n",
       "       [ 0.87737796,  0.04595904],\n",
       "       [ 1.12772938,  0.41464413],\n",
       "       [-2.13410207,  0.51644076],\n",
       "       [-2.20137616,  0.21093127],\n",
       "       [ 1.89425671, -0.92278916],\n",
       "       [ 2.18275851, -1.89793125],\n",
       "       [ 1.21168369,  1.28083343],\n",
       "       [-2.22414633, -0.16565561],\n",
       "       [-0.06151056,  1.170196  ],\n",
       "       [ 1.97264459, -0.80341738],\n",
       "       [-2.18898331, -0.52179703],\n",
       "       [-2.2088983 ,  0.75480172],\n",
       "       [ 1.22571393,  1.88319446],\n",
       "       [ 1.73001907,  0.29222531],\n",
       "       [-2.27101349, -2.82028671],\n",
       "       [ 0.44349028,  0.51490223],\n",
       "       [-1.90313148, -1.45525791],\n",
       "       [ 0.33103273,  1.65123028],\n",
       "       [ 2.34912404, -2.53704787],\n",
       "       [-2.41970792,  0.91364021],\n",
       "       [ 1.38794522,  0.1374828 ],\n",
       "       [ 0.70063655, -0.73757091],\n",
       "       [ 1.19430921, -0.52885314],\n",
       "       [ 1.63784691, -0.96576892],\n",
       "       [-2.22889406, -0.24492847],\n",
       "       [ 1.79066351, -0.59369734],\n",
       "       [-2.13610697, -0.32758781],\n",
       "       [ 0.22540449,  0.68134974],\n",
       "       [ 1.07101541,  0.3989636 ],\n",
       "       [-2.0431969 , -0.67837786],\n",
       "       [ 0.53910097,  1.94381613],\n",
       "       [-2.32466996,  1.13874801],\n",
       "       [ 1.94728616, -0.54176686],\n",
       "       [ 0.59877215,  0.51686711],\n",
       "       [ 2.6818746 , -0.67426524],\n",
       "       [-2.26128268, -0.51193035],\n",
       "       [ 1.92704442, -1.00523563],\n",
       "       [ 2.24201996, -0.28935984],\n",
       "       [ 0.91226343,  0.08446664],\n",
       "       [ 1.21442796,  0.20274634],\n",
       "       [-2.16587575, -1.09121469],\n",
       "       [-2.34405079, -1.20163575],\n",
       "       [ 0.92894365,  0.64514646],\n",
       "       [ 1.19357129,  1.07993114],\n",
       "       [-2.14170498, -1.21601774],\n",
       "       [-0.01803973,  1.10944777],\n",
       "       [ 2.23228916, -2.59771619],\n",
       "       [ 1.52697755, -0.62906808],\n",
       "       [ 1.55041185,  0.54158178],\n",
       "       [ 1.01789311,  0.7410158 ],\n",
       "       [-2.19887931, -0.01756301],\n",
       "       [ 1.83772744, -0.61004422],\n",
       "       [-2.08130651, -1.56567896],\n",
       "       [ 1.30770555, -0.63910448],\n",
       "       [-0.12489783,  2.82087437],\n",
       "       [ 1.80746672, -0.30114825],\n",
       "       [ 1.80231844,  0.28235863],\n",
       "       [-2.28414426, -0.47877412],\n",
       "       [ 1.29303024, -0.35575572],\n",
       "       [ 0.83403011, -0.16142344],\n",
       "       [ 1.01146722,  1.5577819 ],\n",
       "       [ 0.68084455,  0.27089713],\n",
       "       [ 0.68967588, -0.36462013],\n",
       "       [ 0.00326668,  1.70419977],\n",
       "       [-2.32168116, -0.16226913],\n",
       "       [ 0.060564  ,  0.23761433]])"
      ]
     },
     "execution_count": 31,
     "metadata": {},
     "output_type": "execute_result"
    }
   ],
   "source": [
    "x_train_trf"
   ]
  },
  {
   "cell_type": "code",
   "execution_count": 34,
   "metadata": {},
   "outputs": [
    {
     "data": {
      "text/plain": [
       "array([[ 0.52606701, -0.25776909,  0.5804543 ,  0.56558059],\n",
       "       [-0.35178491, -0.93267558, -0.02015382, -0.07718464]])"
      ]
     },
     "execution_count": 34,
     "metadata": {},
     "output_type": "execute_result"
    }
   ],
   "source": [
    "#Coefficient values of principle component 1 & 2\n",
    "pca.components_"
   ]
  },
  {
   "cell_type": "code",
   "execution_count": 36,
   "metadata": {},
   "outputs": [
    {
     "data": {
      "text/plain": [
       "array([2.94793148, 0.92567629])"
      ]
     },
     "execution_count": 36,
     "metadata": {},
     "output_type": "execute_result"
    }
   ],
   "source": [
    "#Eigen values of PCA1 and PCA2\n",
    "pca.explained_variance_\n",
    "#2.94+0.92 = 4 (=original number of feature columns)"
   ]
  },
  {
   "cell_type": "code",
   "execution_count": 38,
   "metadata": {},
   "outputs": [
    {
     "data": {
      "text/plain": [
       "array([0.73084135, 0.22949058])"
      ]
     },
     "execution_count": 38,
     "metadata": {},
     "output_type": "execute_result"
    }
   ],
   "source": [
    "pca.explained_variance_ratio_\n",
    "#(First PCA component can explain 73% and second can explain 23% = 96% which is higher than 95% cut off defined earlier)"
   ]
  },
  {
   "cell_type": "code",
   "execution_count": 40,
   "metadata": {},
   "outputs": [],
   "source": [
    "#Train a fresh Logisti model on the smaller  dimension dataset obtained using PCA\n",
    "lr_pca=LogisticRegression()\n",
    "lr_pca.fit(x_train_trf,y_train)\n",
    "train_pred_trf=lr_pca.predict(x_train_trf)\n",
    "test_pred_trf=lr_pca.predict(x_test_trf)"
   ]
  },
  {
   "cell_type": "code",
   "execution_count": 41,
   "metadata": {},
   "outputs": [
    {
     "data": {
      "text/plain": [
       "(0.925, 0.9)"
      ]
     },
     "execution_count": 41,
     "metadata": {},
     "output_type": "execute_result"
    }
   ],
   "source": [
    "#Calculate Accuracy on training and test data predictions\n",
    "train_acc_trf=accuracy_score(y_train,train_pred_trf)\n",
    "test_acc_trf=accuracy_score(y_test,test_pred_trf)\n",
    "train_acc_trf,test_acc_trf\n",
    "#Accuracy has come down from 96% to 92.5% and from 96% to 90%"
   ]
  },
  {
   "cell_type": "code",
   "execution_count": null,
   "metadata": {},
   "outputs": [],
   "source": []
  }
 ],
 "metadata": {
  "kernelspec": {
   "display_name": "Python 3",
   "language": "python",
   "name": "python3"
  },
  "language_info": {
   "codemirror_mode": {
    "name": "ipython",
    "version": 3
   },
   "file_extension": ".py",
   "mimetype": "text/x-python",
   "name": "python",
   "nbconvert_exporter": "python",
   "pygments_lexer": "ipython3",
   "version": "3.7.6"
  }
 },
 "nbformat": 4,
 "nbformat_minor": 4
}
