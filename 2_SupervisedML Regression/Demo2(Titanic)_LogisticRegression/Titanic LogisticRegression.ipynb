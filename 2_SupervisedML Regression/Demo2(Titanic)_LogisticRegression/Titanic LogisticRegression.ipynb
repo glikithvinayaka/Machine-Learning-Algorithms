{
 "cells": [
  {
   "cell_type": "code",
   "execution_count": 22,
   "metadata": {},
   "outputs": [],
   "source": [
    "#Import Pandas and Numpy\n",
    "import pandas as pd\n",
    "import numpy as np\n",
    "\n",
    "#Import matplotlib and sattermatrix\n",
    "import matplotlib.pyplot as plt\n",
    "from pandas.plotting import scatter_matrix\n",
    "\n",
    "#Import Seaborn\n",
    "import seaborn as sns\n",
    "sns.set()\n",
    "\n",
    "#Import Logistic regression model\n",
    "from sklearn.linear_model import LogisticRegression\n",
    "from sklearn.model_selection import train_test_split\n",
    "\n",
    "#Import libraries for metrics & reporting\n",
    "from sklearn.metrics import confusion_matrix\n",
    "from sklearn.metrics import classification_report\n",
    "from sklearn.metrics import accuracy_score\n",
    "from sklearn.metrics import precision_score\n",
    "from sklearn.metrics import recall_score\n",
    "from sklearn.metrics import f1_score\n",
    "\n",
    "import warnings\n",
    "warnings.filterwarnings(\"ignore\")"
   ]
  },
  {
   "cell_type": "code",
   "execution_count": 23,
   "metadata": {},
   "outputs": [
    {
     "data": {
      "text/html": [
       "<div>\n",
       "<style scoped>\n",
       "    .dataframe tbody tr th:only-of-type {\n",
       "        vertical-align: middle;\n",
       "    }\n",
       "\n",
       "    .dataframe tbody tr th {\n",
       "        vertical-align: top;\n",
       "    }\n",
       "\n",
       "    .dataframe thead th {\n",
       "        text-align: right;\n",
       "    }\n",
       "</style>\n",
       "<table border=\"1\" class=\"dataframe\">\n",
       "  <thead>\n",
       "    <tr style=\"text-align: right;\">\n",
       "      <th></th>\n",
       "      <th>PassengerId</th>\n",
       "      <th>Survived</th>\n",
       "      <th>Pclass</th>\n",
       "      <th>Name</th>\n",
       "      <th>Sex</th>\n",
       "      <th>Age</th>\n",
       "      <th>SibSp</th>\n",
       "      <th>Parch</th>\n",
       "      <th>Ticket</th>\n",
       "      <th>Fare</th>\n",
       "      <th>Cabin</th>\n",
       "      <th>Embarked</th>\n",
       "    </tr>\n",
       "  </thead>\n",
       "  <tbody>\n",
       "    <tr>\n",
       "      <th>0</th>\n",
       "      <td>1</td>\n",
       "      <td>0</td>\n",
       "      <td>3</td>\n",
       "      <td>Braund, Mr. Owen Harris</td>\n",
       "      <td>male</td>\n",
       "      <td>22.0</td>\n",
       "      <td>1</td>\n",
       "      <td>0</td>\n",
       "      <td>A/5 21171</td>\n",
       "      <td>7.2500</td>\n",
       "      <td>NaN</td>\n",
       "      <td>S</td>\n",
       "    </tr>\n",
       "    <tr>\n",
       "      <th>1</th>\n",
       "      <td>2</td>\n",
       "      <td>1</td>\n",
       "      <td>1</td>\n",
       "      <td>Cumings, Mrs. John Bradley (Florence Briggs Th...</td>\n",
       "      <td>female</td>\n",
       "      <td>38.0</td>\n",
       "      <td>1</td>\n",
       "      <td>0</td>\n",
       "      <td>PC 17599</td>\n",
       "      <td>71.2833</td>\n",
       "      <td>C85</td>\n",
       "      <td>C</td>\n",
       "    </tr>\n",
       "    <tr>\n",
       "      <th>2</th>\n",
       "      <td>3</td>\n",
       "      <td>1</td>\n",
       "      <td>3</td>\n",
       "      <td>Heikkinen, Miss. Laina</td>\n",
       "      <td>female</td>\n",
       "      <td>26.0</td>\n",
       "      <td>0</td>\n",
       "      <td>0</td>\n",
       "      <td>STON/O2. 3101282</td>\n",
       "      <td>7.9250</td>\n",
       "      <td>NaN</td>\n",
       "      <td>S</td>\n",
       "    </tr>\n",
       "    <tr>\n",
       "      <th>3</th>\n",
       "      <td>4</td>\n",
       "      <td>1</td>\n",
       "      <td>1</td>\n",
       "      <td>Futrelle, Mrs. Jacques Heath (Lily May Peel)</td>\n",
       "      <td>female</td>\n",
       "      <td>35.0</td>\n",
       "      <td>1</td>\n",
       "      <td>0</td>\n",
       "      <td>113803</td>\n",
       "      <td>53.1000</td>\n",
       "      <td>C123</td>\n",
       "      <td>S</td>\n",
       "    </tr>\n",
       "    <tr>\n",
       "      <th>4</th>\n",
       "      <td>5</td>\n",
       "      <td>0</td>\n",
       "      <td>3</td>\n",
       "      <td>Allen, Mr. William Henry</td>\n",
       "      <td>male</td>\n",
       "      <td>35.0</td>\n",
       "      <td>0</td>\n",
       "      <td>0</td>\n",
       "      <td>373450</td>\n",
       "      <td>8.0500</td>\n",
       "      <td>NaN</td>\n",
       "      <td>S</td>\n",
       "    </tr>\n",
       "  </tbody>\n",
       "</table>\n",
       "</div>"
      ],
      "text/plain": [
       "   PassengerId  Survived  Pclass  ...     Fare Cabin  Embarked\n",
       "0            1         0       3  ...   7.2500   NaN         S\n",
       "1            2         1       1  ...  71.2833   C85         C\n",
       "2            3         1       3  ...   7.9250   NaN         S\n",
       "3            4         1       1  ...  53.1000  C123         S\n",
       "4            5         0       3  ...   8.0500   NaN         S\n",
       "\n",
       "[5 rows x 12 columns]"
      ]
     },
     "execution_count": 23,
     "metadata": {},
     "output_type": "execute_result"
    }
   ],
   "source": [
    "#Load the Dataset\n",
    "df_train=pd.read_csv('titanic.csv')\n",
    "df_train.head()"
   ]
  },
  {
   "cell_type": "code",
   "execution_count": 24,
   "metadata": {},
   "outputs": [
    {
     "data": {
      "text/plain": [
       "(891, 12)"
      ]
     },
     "execution_count": 24,
     "metadata": {},
     "output_type": "execute_result"
    }
   ],
   "source": [
    "#View Shape\n",
    "df_train.shape"
   ]
  },
  {
   "cell_type": "code",
   "execution_count": 25,
   "metadata": {},
   "outputs": [
    {
     "data": {
      "text/plain": [
       "male      577\n",
       "female    314\n",
       "Name: Sex, dtype: int64"
      ]
     },
     "execution_count": 25,
     "metadata": {},
     "output_type": "execute_result"
    }
   ],
   "source": [
    "#Check frequency of categorical feature class\n",
    "#See different values in sex column\n",
    "df_train['Sex'].value_counts()"
   ]
  },
  {
   "cell_type": "code",
   "execution_count": 26,
   "metadata": {},
   "outputs": [
    {
     "data": {
      "text/plain": [
       "0    0.616162\n",
       "1    0.383838\n",
       "Name: Survived, dtype: float64"
      ]
     },
     "execution_count": 26,
     "metadata": {},
     "output_type": "execute_result"
    }
   ],
   "source": [
    "#See different values in survived column\n",
    "df_train['Survived'].value_counts(1) #normalized=1"
   ]
  },
  {
   "cell_type": "code",
   "execution_count": 27,
   "metadata": {},
   "outputs": [
    {
     "data": {
      "text/plain": [
       "0    549\n",
       "1    342\n",
       "Name: Survived, dtype: int64"
      ]
     },
     "execution_count": 27,
     "metadata": {},
     "output_type": "execute_result"
    }
   ],
   "source": [
    "df_train['Survived'].value_counts()"
   ]
  },
  {
   "cell_type": "code",
   "execution_count": 28,
   "metadata": {},
   "outputs": [
    {
     "data": {
      "text/plain": [
       "S    644\n",
       "C    168\n",
       "Q     77\n",
       "Name: Embarked, dtype: int64"
      ]
     },
     "execution_count": 28,
     "metadata": {},
     "output_type": "execute_result"
    }
   ],
   "source": [
    "#See different values in embarked column\n",
    "df_train['Embarked'].value_counts() "
   ]
  },
  {
   "cell_type": "code",
   "execution_count": 29,
   "metadata": {},
   "outputs": [
    {
     "data": {
      "text/plain": [
       "PassengerId      0\n",
       "Survived         0\n",
       "Pclass           0\n",
       "Name             0\n",
       "Sex              0\n",
       "Age            177\n",
       "SibSp            0\n",
       "Parch            0\n",
       "Ticket           0\n",
       "Fare             0\n",
       "Cabin          687\n",
       "Embarked         2\n",
       "dtype: int64"
      ]
     },
     "execution_count": 29,
     "metadata": {},
     "output_type": "execute_result"
    }
   ],
   "source": [
    "#Check for missing values\n",
    "df_train.isnull().sum()"
   ]
  },
  {
   "cell_type": "code",
   "execution_count": 30,
   "metadata": {},
   "outputs": [
    {
     "data": {
      "text/plain": [
       "(891, 12)"
      ]
     },
     "execution_count": 30,
     "metadata": {},
     "output_type": "execute_result"
    }
   ],
   "source": [
    "df_train.shape"
   ]
  },
  {
   "cell_type": "code",
   "execution_count": 31,
   "metadata": {},
   "outputs": [
    {
     "data": {
      "text/html": [
       "<div>\n",
       "<style scoped>\n",
       "    .dataframe tbody tr th:only-of-type {\n",
       "        vertical-align: middle;\n",
       "    }\n",
       "\n",
       "    .dataframe tbody tr th {\n",
       "        vertical-align: top;\n",
       "    }\n",
       "\n",
       "    .dataframe thead th {\n",
       "        text-align: right;\n",
       "    }\n",
       "</style>\n",
       "<table border=\"1\" class=\"dataframe\">\n",
       "  <thead>\n",
       "    <tr style=\"text-align: right;\">\n",
       "      <th></th>\n",
       "      <th>Survived</th>\n",
       "      <th>Pclass</th>\n",
       "      <th>Sex</th>\n",
       "      <th>Age</th>\n",
       "      <th>SibSp</th>\n",
       "      <th>Parch</th>\n",
       "      <th>Fare</th>\n",
       "      <th>Embarked</th>\n",
       "    </tr>\n",
       "  </thead>\n",
       "  <tbody>\n",
       "    <tr>\n",
       "      <th>0</th>\n",
       "      <td>0</td>\n",
       "      <td>3</td>\n",
       "      <td>male</td>\n",
       "      <td>22.0</td>\n",
       "      <td>1</td>\n",
       "      <td>0</td>\n",
       "      <td>7.2500</td>\n",
       "      <td>S</td>\n",
       "    </tr>\n",
       "    <tr>\n",
       "      <th>1</th>\n",
       "      <td>1</td>\n",
       "      <td>1</td>\n",
       "      <td>female</td>\n",
       "      <td>38.0</td>\n",
       "      <td>1</td>\n",
       "      <td>0</td>\n",
       "      <td>71.2833</td>\n",
       "      <td>C</td>\n",
       "    </tr>\n",
       "    <tr>\n",
       "      <th>2</th>\n",
       "      <td>1</td>\n",
       "      <td>3</td>\n",
       "      <td>female</td>\n",
       "      <td>26.0</td>\n",
       "      <td>0</td>\n",
       "      <td>0</td>\n",
       "      <td>7.9250</td>\n",
       "      <td>S</td>\n",
       "    </tr>\n",
       "    <tr>\n",
       "      <th>3</th>\n",
       "      <td>1</td>\n",
       "      <td>1</td>\n",
       "      <td>female</td>\n",
       "      <td>35.0</td>\n",
       "      <td>1</td>\n",
       "      <td>0</td>\n",
       "      <td>53.1000</td>\n",
       "      <td>S</td>\n",
       "    </tr>\n",
       "    <tr>\n",
       "      <th>4</th>\n",
       "      <td>0</td>\n",
       "      <td>3</td>\n",
       "      <td>male</td>\n",
       "      <td>35.0</td>\n",
       "      <td>0</td>\n",
       "      <td>0</td>\n",
       "      <td>8.0500</td>\n",
       "      <td>S</td>\n",
       "    </tr>\n",
       "    <tr>\n",
       "      <th>...</th>\n",
       "      <td>...</td>\n",
       "      <td>...</td>\n",
       "      <td>...</td>\n",
       "      <td>...</td>\n",
       "      <td>...</td>\n",
       "      <td>...</td>\n",
       "      <td>...</td>\n",
       "      <td>...</td>\n",
       "    </tr>\n",
       "    <tr>\n",
       "      <th>886</th>\n",
       "      <td>0</td>\n",
       "      <td>2</td>\n",
       "      <td>male</td>\n",
       "      <td>27.0</td>\n",
       "      <td>0</td>\n",
       "      <td>0</td>\n",
       "      <td>13.0000</td>\n",
       "      <td>S</td>\n",
       "    </tr>\n",
       "    <tr>\n",
       "      <th>887</th>\n",
       "      <td>1</td>\n",
       "      <td>1</td>\n",
       "      <td>female</td>\n",
       "      <td>19.0</td>\n",
       "      <td>0</td>\n",
       "      <td>0</td>\n",
       "      <td>30.0000</td>\n",
       "      <td>S</td>\n",
       "    </tr>\n",
       "    <tr>\n",
       "      <th>888</th>\n",
       "      <td>0</td>\n",
       "      <td>3</td>\n",
       "      <td>female</td>\n",
       "      <td>NaN</td>\n",
       "      <td>1</td>\n",
       "      <td>2</td>\n",
       "      <td>23.4500</td>\n",
       "      <td>S</td>\n",
       "    </tr>\n",
       "    <tr>\n",
       "      <th>889</th>\n",
       "      <td>1</td>\n",
       "      <td>1</td>\n",
       "      <td>male</td>\n",
       "      <td>26.0</td>\n",
       "      <td>0</td>\n",
       "      <td>0</td>\n",
       "      <td>30.0000</td>\n",
       "      <td>C</td>\n",
       "    </tr>\n",
       "    <tr>\n",
       "      <th>890</th>\n",
       "      <td>0</td>\n",
       "      <td>3</td>\n",
       "      <td>male</td>\n",
       "      <td>32.0</td>\n",
       "      <td>0</td>\n",
       "      <td>0</td>\n",
       "      <td>7.7500</td>\n",
       "      <td>Q</td>\n",
       "    </tr>\n",
       "  </tbody>\n",
       "</table>\n",
       "<p>891 rows × 8 columns</p>\n",
       "</div>"
      ],
      "text/plain": [
       "     Survived  Pclass     Sex   Age  SibSp  Parch     Fare Embarked\n",
       "0           0       3    male  22.0      1      0   7.2500        S\n",
       "1           1       1  female  38.0      1      0  71.2833        C\n",
       "2           1       3  female  26.0      0      0   7.9250        S\n",
       "3           1       1  female  35.0      1      0  53.1000        S\n",
       "4           0       3    male  35.0      0      0   8.0500        S\n",
       "..        ...     ...     ...   ...    ...    ...      ...      ...\n",
       "886         0       2    male  27.0      0      0  13.0000        S\n",
       "887         1       1  female  19.0      0      0  30.0000        S\n",
       "888         0       3  female   NaN      1      2  23.4500        S\n",
       "889         1       1    male  26.0      0      0  30.0000        C\n",
       "890         0       3    male  32.0      0      0   7.7500        Q\n",
       "\n",
       "[891 rows x 8 columns]"
      ]
     },
     "execution_count": 31,
     "metadata": {},
     "output_type": "execute_result"
    }
   ],
   "source": [
    "#Drop unnecessary feature\n",
    "df_train=df_train.drop(['PassengerId','Name','Ticket','Cabin'],axis=1)\n",
    "df_train"
   ]
  },
  {
   "cell_type": "code",
   "execution_count": 32,
   "metadata": {},
   "outputs": [
    {
     "data": {
      "text/html": [
       "<div>\n",
       "<style scoped>\n",
       "    .dataframe tbody tr th:only-of-type {\n",
       "        vertical-align: middle;\n",
       "    }\n",
       "\n",
       "    .dataframe tbody tr th {\n",
       "        vertical-align: top;\n",
       "    }\n",
       "\n",
       "    .dataframe thead th {\n",
       "        text-align: right;\n",
       "    }\n",
       "</style>\n",
       "<table border=\"1\" class=\"dataframe\">\n",
       "  <thead>\n",
       "    <tr style=\"text-align: right;\">\n",
       "      <th></th>\n",
       "      <th>Survived</th>\n",
       "      <th>Age</th>\n",
       "      <th>SibSp</th>\n",
       "      <th>Parch</th>\n",
       "      <th>Fare</th>\n",
       "    </tr>\n",
       "    <tr>\n",
       "      <th>Pclass</th>\n",
       "      <th></th>\n",
       "      <th></th>\n",
       "      <th></th>\n",
       "      <th></th>\n",
       "      <th></th>\n",
       "    </tr>\n",
       "  </thead>\n",
       "  <tbody>\n",
       "    <tr>\n",
       "      <th>1</th>\n",
       "      <td>0.629630</td>\n",
       "      <td>38.233441</td>\n",
       "      <td>0.416667</td>\n",
       "      <td>0.356481</td>\n",
       "      <td>84.154687</td>\n",
       "    </tr>\n",
       "    <tr>\n",
       "      <th>2</th>\n",
       "      <td>0.472826</td>\n",
       "      <td>29.877630</td>\n",
       "      <td>0.402174</td>\n",
       "      <td>0.380435</td>\n",
       "      <td>20.662183</td>\n",
       "    </tr>\n",
       "    <tr>\n",
       "      <th>3</th>\n",
       "      <td>0.242363</td>\n",
       "      <td>25.140620</td>\n",
       "      <td>0.615071</td>\n",
       "      <td>0.393075</td>\n",
       "      <td>13.675550</td>\n",
       "    </tr>\n",
       "  </tbody>\n",
       "</table>\n",
       "</div>"
      ],
      "text/plain": [
       "        Survived        Age     SibSp     Parch       Fare\n",
       "Pclass                                                    \n",
       "1       0.629630  38.233441  0.416667  0.356481  84.154687\n",
       "2       0.472826  29.877630  0.402174  0.380435  20.662183\n",
       "3       0.242363  25.140620  0.615071  0.393075  13.675550"
      ]
     },
     "execution_count": 32,
     "metadata": {},
     "output_type": "execute_result"
    }
   ],
   "source": [
    "df_train.groupby(['Pclass']).mean() "
   ]
  },
  {
   "cell_type": "code",
   "execution_count": 44,
   "metadata": {},
   "outputs": [],
   "source": [
    "def ageapprox(cols):\n",
    "    Age=cols[0]\n",
    "    Pclass=cols[1]\n",
    "    \n",
    "    if pd.isnull(Age):\n",
    "        if Pclass==1:\n",
    "            return 38\n",
    "        elif Pclass==2:\n",
    "            return 30\n",
    "        elif Pclass==3:\n",
    "            return 25\n",
    "    else:\n",
    "        return Age  "
   ]
  },
  {
   "cell_type": "code",
   "execution_count": 45,
   "metadata": {},
   "outputs": [],
   "source": [
    "df_train['Age']=df_train[['Age','Pclass']].apply(ageapprox,axis=1)"
   ]
  },
  {
   "cell_type": "code",
   "execution_count": 46,
   "metadata": {},
   "outputs": [
    {
     "data": {
      "text/plain": [
       "Survived    0\n",
       "Pclass      0\n",
       "Sex         0\n",
       "Age         0\n",
       "SibSp       0\n",
       "Parch       0\n",
       "Fare        0\n",
       "Embarked    2\n",
       "dtype: int64"
      ]
     },
     "execution_count": 46,
     "metadata": {},
     "output_type": "execute_result"
    }
   ],
   "source": [
    "df_train.isnull().sum()"
   ]
  },
  {
   "cell_type": "code",
   "execution_count": 48,
   "metadata": {},
   "outputs": [
    {
     "data": {
      "text/plain": [
       "Survived      int64\n",
       "Pclass        int64\n",
       "Sex          object\n",
       "Age           int64\n",
       "SibSp         int64\n",
       "Parch         int64\n",
       "Fare        float64\n",
       "Embarked     object\n",
       "dtype: object"
      ]
     },
     "execution_count": 48,
     "metadata": {},
     "output_type": "execute_result"
    }
   ],
   "source": [
    "#Object signifies they are categorical/string type data\n",
    "df_train.dtypes"
   ]
  },
  {
   "cell_type": "code",
   "execution_count": 49,
   "metadata": {},
   "outputs": [
    {
     "data": {
      "text/html": [
       "<div>\n",
       "<style scoped>\n",
       "    .dataframe tbody tr th:only-of-type {\n",
       "        vertical-align: middle;\n",
       "    }\n",
       "\n",
       "    .dataframe tbody tr th {\n",
       "        vertical-align: top;\n",
       "    }\n",
       "\n",
       "    .dataframe thead th {\n",
       "        text-align: right;\n",
       "    }\n",
       "</style>\n",
       "<table border=\"1\" class=\"dataframe\">\n",
       "  <thead>\n",
       "    <tr style=\"text-align: right;\">\n",
       "      <th></th>\n",
       "      <th>Survived</th>\n",
       "      <th>Pclass</th>\n",
       "      <th>Age</th>\n",
       "      <th>SibSp</th>\n",
       "      <th>Parch</th>\n",
       "      <th>Fare</th>\n",
       "      <th>Sex_male</th>\n",
       "      <th>Embarked_Q</th>\n",
       "      <th>Embarked_S</th>\n",
       "    </tr>\n",
       "  </thead>\n",
       "  <tbody>\n",
       "    <tr>\n",
       "      <th>0</th>\n",
       "      <td>0</td>\n",
       "      <td>3</td>\n",
       "      <td>25</td>\n",
       "      <td>1</td>\n",
       "      <td>0</td>\n",
       "      <td>7.2500</td>\n",
       "      <td>1</td>\n",
       "      <td>0</td>\n",
       "      <td>1</td>\n",
       "    </tr>\n",
       "    <tr>\n",
       "      <th>1</th>\n",
       "      <td>1</td>\n",
       "      <td>1</td>\n",
       "      <td>38</td>\n",
       "      <td>1</td>\n",
       "      <td>0</td>\n",
       "      <td>71.2833</td>\n",
       "      <td>0</td>\n",
       "      <td>0</td>\n",
       "      <td>0</td>\n",
       "    </tr>\n",
       "    <tr>\n",
       "      <th>2</th>\n",
       "      <td>1</td>\n",
       "      <td>3</td>\n",
       "      <td>25</td>\n",
       "      <td>0</td>\n",
       "      <td>0</td>\n",
       "      <td>7.9250</td>\n",
       "      <td>0</td>\n",
       "      <td>0</td>\n",
       "      <td>1</td>\n",
       "    </tr>\n",
       "    <tr>\n",
       "      <th>3</th>\n",
       "      <td>1</td>\n",
       "      <td>1</td>\n",
       "      <td>38</td>\n",
       "      <td>1</td>\n",
       "      <td>0</td>\n",
       "      <td>53.1000</td>\n",
       "      <td>0</td>\n",
       "      <td>0</td>\n",
       "      <td>1</td>\n",
       "    </tr>\n",
       "    <tr>\n",
       "      <th>4</th>\n",
       "      <td>0</td>\n",
       "      <td>3</td>\n",
       "      <td>25</td>\n",
       "      <td>0</td>\n",
       "      <td>0</td>\n",
       "      <td>8.0500</td>\n",
       "      <td>1</td>\n",
       "      <td>0</td>\n",
       "      <td>1</td>\n",
       "    </tr>\n",
       "  </tbody>\n",
       "</table>\n",
       "</div>"
      ],
      "text/plain": [
       "   Survived  Pclass  Age  SibSp  ...     Fare  Sex_male  Embarked_Q  Embarked_S\n",
       "0         0       3   25      1  ...   7.2500         1           0           1\n",
       "1         1       1   38      1  ...  71.2833         0           0           0\n",
       "2         1       3   25      0  ...   7.9250         0           0           1\n",
       "3         1       1   38      1  ...  53.1000         0           0           1\n",
       "4         0       3   25      0  ...   8.0500         1           0           1\n",
       "\n",
       "[5 rows x 9 columns]"
      ]
     },
     "execution_count": 49,
     "metadata": {},
     "output_type": "execute_result"
    }
   ],
   "source": [
    "#One hot encoding\n",
    "df_train_dummied=pd.get_dummies(df_train,columns=['Sex','Embarked'],drop_first=True)\n",
    "df_train_dummied.head()"
   ]
  },
  {
   "cell_type": "code",
   "execution_count": 50,
   "metadata": {},
   "outputs": [
    {
     "data": {
      "text/plain": [
       "<AxesSubplot:>"
      ]
     },
     "execution_count": 50,
     "metadata": {},
     "output_type": "execute_result"
    },
    {
     "data": {
      "image/png": "[encoded data removed]",
      "text/plain": [
       "<Figure size 720x576 with 2 Axes>"
      ]
     },
     "metadata": {},
     "output_type": "display_data"
    }
   ],
   "source": [
    "#Check between correlation between pairs of idependent features\n",
    "plt.figure(figsize=(10,8))\n",
    "sns.heatmap(df_train_dummied.corr(),vmin=-1,vmax=1,cmap='plasma',annot=True)"
   ]
  },
  {
   "cell_type": "code",
   "execution_count": 51,
   "metadata": {},
   "outputs": [],
   "source": [
    "x=df_train_dummied.drop(['Survived'],axis=1)\n",
    "y=df_train_dummied['Survived']"
   ]
  },
  {
   "cell_type": "code",
   "execution_count": 52,
   "metadata": {},
   "outputs": [],
   "source": [
    "#Split dataset in training and test dataset\n",
    "x_train,x_test,y_train,y_test=train_test_split(x,y,test_size=0.3,random_state=11)"
   ]
  },
  {
   "cell_type": "code",
   "execution_count": 54,
   "metadata": {},
   "outputs": [
    {
     "name": "stdout",
     "output_type": "stream",
     "text": [
      "(623, 8)\n",
      "(268, 8)\n",
      "(623,)\n",
      "(268,)\n"
     ]
    }
   ],
   "source": [
    "print(x_train.shape)\n",
    "print(x_test.shape)\n",
    "print(y_train.shape)\n",
    "print(y_test.shape)"
   ]
  },
  {
   "cell_type": "code",
   "execution_count": 55,
   "metadata": {},
   "outputs": [],
   "source": [
    "#Instantiate the classifier\n",
    "logreg=LogisticRegression()"
   ]
  },
  {
   "cell_type": "code",
   "execution_count": 56,
   "metadata": {},
   "outputs": [
    {
     "data": {
      "text/plain": [
       "LogisticRegression()"
      ]
     },
     "execution_count": 56,
     "metadata": {},
     "output_type": "execute_result"
    }
   ],
   "source": [
    "#Train classifier\n",
    "logreg.fit(x_train,y_train)"
   ]
  },
  {
   "cell_type": "code",
   "execution_count": 57,
   "metadata": {},
   "outputs": [],
   "source": [
    "y_pred=logreg.predict(x_test)"
   ]
  },
  {
   "cell_type": "code",
   "execution_count": 60,
   "metadata": {},
   "outputs": [
    {
     "data": {
      "image/png": "[encoded data removed]",
      "text/plain": [
       "<Figure size 432x288 with 2 Axes>"
      ]
     },
     "metadata": {},
     "output_type": "display_data"
    }
   ],
   "source": [
    "from sklearn.metrics import plot_confusion_matrix\n",
    "plot_confusion_matrix(logreg,x_test,y_test)\n",
    "plt.grid();"
   ]
  },
  {
   "cell_type": "code",
   "execution_count": 66,
   "metadata": {},
   "outputs": [
    {
     "data": {
      "image/png": "[encoded data removed]",
      "text/plain": [
       "<Figure size 432x288 with 2 Axes>"
      ]
     },
     "metadata": {},
     "output_type": "display_data"
    }
   ],
   "source": [
    "plot_confusion_matrix(logreg,x_train,y_train)\n",
    "plt.grid();"
   ]
  },
  {
   "cell_type": "code",
   "execution_count": 61,
   "metadata": {},
   "outputs": [
    {
     "data": {
      "text/plain": [
       "0.835820895522388"
      ]
     },
     "execution_count": 61,
     "metadata": {},
     "output_type": "execute_result"
    }
   ],
   "source": [
    "accuracy_score(y_test,y_pred)"
   ]
  },
  {
   "cell_type": "code",
   "execution_count": 62,
   "metadata": {},
   "outputs": [
    {
     "name": "stdout",
     "output_type": "stream",
     "text": [
      "              precision    recall  f1-score   support\n",
      "\n",
      "           0       0.87      0.88      0.88       176\n",
      "           1       0.77      0.75      0.76        92\n",
      "\n",
      "    accuracy                           0.84       268\n",
      "   macro avg       0.82      0.82      0.82       268\n",
      "weighted avg       0.84      0.84      0.84       268\n",
      "\n"
     ]
    }
   ],
   "source": [
    "print(classification_report(y_test,y_pred))"
   ]
  },
  {
   "cell_type": "code",
   "execution_count": 63,
   "metadata": {},
   "outputs": [
    {
     "data": {
      "text/plain": [
       "array([[-3.75592622e-01,  7.29690352e-02, -2.24770012e-01,\n",
       "        -2.06954604e-02,  1.80015990e-03, -2.45915227e+00,\n",
       "         9.29335674e-03, -2.39981982e-01]])"
      ]
     },
     "execution_count": 63,
     "metadata": {},
     "output_type": "execute_result"
    }
   ],
   "source": [
    "logreg.coef_"
   ]
  },
  {
   "cell_type": "code",
   "execution_count": 64,
   "metadata": {},
   "outputs": [
    {
     "data": {
      "text/plain": [
       "array([0.01069867])"
      ]
     },
     "execution_count": 64,
     "metadata": {},
     "output_type": "execute_result"
    }
   ],
   "source": [
    "logreg.intercept_"
   ]
  },
  {
   "cell_type": "code",
   "execution_count": 65,
   "metadata": {},
   "outputs": [
    {
     "data": {
      "text/plain": [
       "array([1, 0, 0, 0, 0, 0, 0, 1, 0, 1])"
      ]
     },
     "execution_count": 65,
     "metadata": {},
     "output_type": "execute_result"
    }
   ],
   "source": [
    "y_pred[:10]"
   ]
  },
  {
   "cell_type": "code",
   "execution_count": 67,
   "metadata": {},
   "outputs": [
    {
     "data": {
      "text/plain": [
       "array([[0.43232357, 0.56767643],\n",
       "       [0.87818927, 0.12181073],\n",
       "       [0.84912965, 0.15087035],\n",
       "       [0.72691818, 0.27308182],\n",
       "       [0.82746662, 0.17253338],\n",
       "       [0.76919044, 0.23080956],\n",
       "       [0.87846101, 0.12153899],\n",
       "       [0.32713751, 0.67286249],\n",
       "       [0.80666993, 0.19333007],\n",
       "       [0.22535792, 0.77464208],\n",
       "       [0.77316114, 0.22683886],\n",
       "       [0.90061388, 0.09938612],\n",
       "       [0.84910754, 0.15089246],\n",
       "       [0.87830717, 0.12169283],\n",
       "       [0.57229108, 0.42770892],\n",
       "       [0.87848503, 0.12151497],\n",
       "       [0.87419603, 0.12580397],\n",
       "       [0.77331896, 0.22668104],\n",
       "       [0.60236904, 0.39763096],\n",
       "       [0.33290099, 0.66709901],\n",
       "       [0.7741069 , 0.2258931 ],\n",
       "       [0.52425113, 0.47574887],\n",
       "       [0.8782334 , 0.1217666 ],\n",
       "       [0.85043182, 0.14956818],\n",
       "       [0.87706068, 0.12293932],\n",
       "       [0.77739501, 0.22260499],\n",
       "       [0.77331896, 0.22668104],\n",
       "       [0.90158266, 0.09841734],\n",
       "       [0.77331896, 0.22668104],\n",
       "       [0.60009239, 0.39990761],\n",
       "       [0.07966406, 0.92033594],\n",
       "       [0.22583077, 0.77416923],\n",
       "       [0.87542   , 0.12458   ],\n",
       "       [0.32924464, 0.67075536],\n",
       "       [0.52886564, 0.47113436],\n",
       "       [0.77739501, 0.22260499],\n",
       "       [0.90020503, 0.09979497],\n",
       "       [0.43509793, 0.56490207],\n",
       "       [0.91880806, 0.08119194],\n",
       "       [0.87834484, 0.12165516],\n",
       "       [0.72779876, 0.27220124],\n",
       "       [0.90204093, 0.09795907],\n",
       "       [0.22661855, 0.77338145],\n",
       "       [0.31281935, 0.68718065],\n",
       "       [0.32493719, 0.67506281],\n",
       "       [0.3248895 , 0.6751105 ],\n",
       "       [0.05557667, 0.94442333],\n",
       "       [0.45105229, 0.54894771],\n",
       "       [0.08416381, 0.91583619],\n",
       "       [0.87694417, 0.12305583],\n",
       "       [0.54923903, 0.45076097],\n",
       "       [0.87830717, 0.12169283],\n",
       "       [0.87849944, 0.12150056],\n",
       "       [0.43227401, 0.56772599],\n",
       "       [0.77331896, 0.22668104],\n",
       "       [0.77645684, 0.22354316],\n",
       "       [0.56055397, 0.43944603],\n",
       "       [0.8491258 , 0.1508742 ],\n",
       "       [0.87833683, 0.12166317],\n",
       "       [0.5608311 , 0.4391689 ],\n",
       "       [0.7741069 , 0.2258931 ],\n",
       "       [0.90040757, 0.09959243],\n",
       "       [0.55880164, 0.44119836],\n",
       "       [0.49899139, 0.50100861],\n",
       "       [0.49682934, 0.50317066],\n",
       "       [0.87830717, 0.12169283],\n",
       "       [0.38174198, 0.61825802],\n",
       "       [0.38135615, 0.61864385],\n",
       "       [0.09812991, 0.90187009],\n",
       "       [0.85043182, 0.14956818],\n",
       "       [0.90052386, 0.09947614],\n",
       "       [0.8780279 , 0.1219721 ],\n",
       "       [0.87833683, 0.12166317],\n",
       "       [0.08399109, 0.91600891],\n",
       "       [0.77331896, 0.22668104],\n",
       "       [0.87830717, 0.12169283],\n",
       "       [0.83896929, 0.16103071],\n",
       "       [0.76919044, 0.23080956],\n",
       "       [0.22661855, 0.77338145],\n",
       "       [0.8491258 , 0.1508742 ],\n",
       "       [0.22661855, 0.77338145],\n",
       "       [0.33309927, 0.66690073],\n",
       "       [0.06865492, 0.93134508],\n",
       "       [0.80638903, 0.19361097],\n",
       "       [0.09043914, 0.90956086],\n",
       "       [0.11447882, 0.88552118],\n",
       "       [0.85043182, 0.14956818],\n",
       "       [0.8491258 , 0.1508742 ],\n",
       "       [0.22891184, 0.77108816],\n",
       "       [0.87830717, 0.12169283],\n",
       "       [0.87830717, 0.12169283],\n",
       "       [0.77739501, 0.22260499],\n",
       "       [0.77062435, 0.22937565],\n",
       "       [0.87830717, 0.12169283],\n",
       "       [0.3248895 , 0.6751105 ],\n",
       "       [0.87818927, 0.12181073],\n",
       "       [0.08011676, 0.91988324],\n",
       "       [0.87836007, 0.12163993],\n",
       "       [0.57229108, 0.42770892],\n",
       "       [0.07359868, 0.92640132],\n",
       "       [0.49022268, 0.50977732],\n",
       "       [0.94476395, 0.05523605],\n",
       "       [0.07253481, 0.92746519],\n",
       "       [0.87860589, 0.12139411],\n",
       "       [0.43816282, 0.56183718],\n",
       "       [0.87984758, 0.12015242],\n",
       "       [0.87835607, 0.12164393],\n",
       "       [0.85043278, 0.14956722],\n",
       "       [0.60252719, 0.39747281],\n",
       "       [0.87750648, 0.12249352],\n",
       "       [0.77300325, 0.22699675],\n",
       "       [0.87830717, 0.12169283],\n",
       "       [0.80987699, 0.19012301],\n",
       "       [0.49930452, 0.50069548],\n",
       "       [0.87706068, 0.12293932],\n",
       "       [0.91880806, 0.08119194],\n",
       "       [0.77331896, 0.22668104],\n",
       "       [0.7741069 , 0.2258931 ],\n",
       "       [0.07644875, 0.92355125],\n",
       "       [0.87851385, 0.12148615],\n",
       "       [0.87833683, 0.12166317],\n",
       "       [0.87542   , 0.12458   ],\n",
       "       [0.87645449, 0.12354551],\n",
       "       [0.43950067, 0.56049933],\n",
       "       [0.97599833, 0.02400167],\n",
       "       [0.87833683, 0.12166317],\n",
       "       [0.90025555, 0.09974445],\n",
       "       [0.77379196, 0.22620804],\n",
       "       [0.38596607, 0.61403393],\n",
       "       [0.49720997, 0.50279003],\n",
       "       [0.07359868, 0.92640132],\n",
       "       [0.56067037, 0.43932963],\n",
       "       [0.37669185, 0.62330815],\n",
       "       [0.33930511, 0.66069489],\n",
       "       [0.43232357, 0.56767643],\n",
       "       [0.45110244, 0.54889756],\n",
       "       [0.22630209, 0.77369791],\n",
       "       [0.60081425, 0.39918575],\n",
       "       [0.87824703, 0.12175297],\n",
       "       [0.09803348, 0.90196652],\n",
       "       [0.07873815, 0.92126185],\n",
       "       [0.85043278, 0.14956722],\n",
       "       [0.8491258 , 0.1508742 ],\n",
       "       [0.93440828, 0.06559172],\n",
       "       [0.87841376, 0.12158624],\n",
       "       [0.32503475, 0.67496525],\n",
       "       [0.87840334, 0.12159666],\n",
       "       [0.56055397, 0.43944603],\n",
       "       [0.11539444, 0.88460556],\n",
       "       [0.80806976, 0.19193024],\n",
       "       [0.57229108, 0.42770892],\n",
       "       [0.38773657, 0.61226343],\n",
       "       [0.43157268, 0.56842732],\n",
       "       [0.84933133, 0.15066867],\n",
       "       [0.2629607 , 0.7370393 ],\n",
       "       [0.12722857, 0.87277143],\n",
       "       [0.59774649, 0.40225351],\n",
       "       [0.8780279 , 0.1219721 ],\n",
       "       [0.37986387, 0.62013613],\n",
       "       [0.3248895 , 0.6751105 ],\n",
       "       [0.87818927, 0.12181073],\n",
       "       [0.23266677, 0.76733323],\n",
       "       [0.87984758, 0.12015242],\n",
       "       [0.38196506, 0.61803494],\n",
       "       [0.54512604, 0.45487396],\n",
       "       [0.38128536, 0.61871464],\n",
       "       [0.07330931, 0.92669069],\n",
       "       [0.56055397, 0.43944603],\n",
       "       [0.87833683, 0.12166317],\n",
       "       [0.11519246, 0.88480754],\n",
       "       [0.87846101, 0.12153899],\n",
       "       [0.30819461, 0.69180539],\n",
       "       [0.76592379, 0.23407621],\n",
       "       [0.81070812, 0.18929188],\n",
       "       [0.3926632 , 0.6073368 ],\n",
       "       [0.87834484, 0.12165516],\n",
       "       [0.87833683, 0.12166317],\n",
       "       [0.56055397, 0.43944603],\n",
       "       [0.52797968, 0.47202032],\n",
       "       [0.91744476, 0.08255524],\n",
       "       [0.56098074, 0.43901926],\n",
       "       [0.87833122, 0.12166878],\n",
       "       [0.55968908, 0.44031092],\n",
       "       [0.77331896, 0.22668104],\n",
       "       [0.90038335, 0.09961665],\n",
       "       [0.87830717, 0.12169283],\n",
       "       [0.26470888, 0.73529112],\n",
       "       [0.72857223, 0.27142777],\n",
       "       [0.85043278, 0.14956722],\n",
       "       [0.87849864, 0.12150136],\n",
       "       [0.8780279 , 0.1219721 ],\n",
       "       [0.87848503, 0.12151497],\n",
       "       [0.76919044, 0.23080956],\n",
       "       [0.09834576, 0.90165424],\n",
       "       [0.87836007, 0.12163993],\n",
       "       [0.84935628, 0.15064372],\n",
       "       [0.53845284, 0.46154716],\n",
       "       [0.87830717, 0.12169283],\n",
       "       [0.07513154, 0.92486846],\n",
       "       [0.43174933, 0.56825067],\n",
       "       [0.38183758, 0.61816242],\n",
       "       [0.06586025, 0.93413975],\n",
       "       [0.22583077, 0.77416923],\n",
       "       [0.77354766, 0.22645234],\n",
       "       [0.10121756, 0.89878244],\n",
       "       [0.32477927, 0.67522073],\n",
       "       [0.89961726, 0.10038274],\n",
       "       [0.87846101, 0.12153899],\n",
       "       [0.3846337 , 0.6153663 ],\n",
       "       [0.97599833, 0.02400167],\n",
       "       [0.87836007, 0.12163993],\n",
       "       [0.87833683, 0.12166317],\n",
       "       [0.56055397, 0.43944603],\n",
       "       [0.43597012, 0.56402988],\n",
       "       [0.03454943, 0.96545057],\n",
       "       [0.54930031, 0.45069969],\n",
       "       [0.87833122, 0.12166878],\n",
       "       [0.87830717, 0.12169283],\n",
       "       [0.87818927, 0.12181073],\n",
       "       [0.76919044, 0.23080956],\n",
       "       [0.87830717, 0.12169283],\n",
       "       [0.87830717, 0.12169283],\n",
       "       [0.9011912 , 0.0988088 ],\n",
       "       [0.8477659 , 0.1522341 ],\n",
       "       [0.10999454, 0.89000546],\n",
       "       [0.22740715, 0.77259285],\n",
       "       [0.85027912, 0.14972088],\n",
       "       [0.87572236, 0.12427764],\n",
       "       [0.32528446, 0.67471554],\n",
       "       [0.91870897, 0.08129103],\n",
       "       [0.08477286, 0.91522714],\n",
       "       [0.38167825, 0.61832175],\n",
       "       [0.87830717, 0.12169283],\n",
       "       [0.81304415, 0.18695585],\n",
       "       [0.22583077, 0.77416923],\n",
       "       [0.59243296, 0.40756704],\n",
       "       [0.80624747, 0.19375253],\n",
       "       [0.37685242, 0.62314758],\n",
       "       [0.2197681 , 0.7802319 ],\n",
       "       [0.8754945 , 0.1245055 ],\n",
       "       [0.87836007, 0.12163993],\n",
       "       [0.87833843, 0.12166157],\n",
       "       [0.94476395, 0.05523605],\n",
       "       [0.33026112, 0.66973888],\n",
       "       [0.93144227, 0.06855773],\n",
       "       [0.93144227, 0.06855773],\n",
       "       [0.7741069 , 0.2258931 ],\n",
       "       [0.38455763, 0.61544237],\n",
       "       [0.77331896, 0.22668104],\n",
       "       [0.10205466, 0.89794534],\n",
       "       [0.54708567, 0.45291433],\n",
       "       [0.32487469, 0.67512531],\n",
       "       [0.86867411, 0.13132589],\n",
       "       [0.87517528, 0.12482472],\n",
       "       [0.87836488, 0.12163512],\n",
       "       [0.88145446, 0.11854554],\n",
       "       [0.87741049, 0.12258951],\n",
       "       [0.56055397, 0.43944603],\n",
       "       [0.87830717, 0.12169283],\n",
       "       [0.82746662, 0.17253338],\n",
       "       [0.87830717, 0.12169283],\n",
       "       [0.7741069 , 0.2258931 ],\n",
       "       [0.12722857, 0.87277143],\n",
       "       [0.8068794 , 0.1931206 ],\n",
       "       [0.87829514, 0.12170486],\n",
       "       [0.375335  , 0.624665  ],\n",
       "       [0.11541971, 0.88458029],\n",
       "       [0.80806976, 0.19193024]])"
      ]
     },
     "execution_count": 67,
     "metadata": {},
     "output_type": "execute_result"
    }
   ],
   "source": [
    "logreg.predict_proba(x_test) #Probability prediction foreach passenger whether they will survive"
   ]
  },
  {
   "cell_type": "code",
   "execution_count": null,
   "metadata": {},
   "outputs": [],
   "source": []
  }
 ],
 "metadata": {
  "kernelspec": {
   "display_name": "Python 3",
   "language": "python",
   "name": "python3"
  },
  "language_info": {
   "codemirror_mode": {
    "name": "ipython",
    "version": 3
   },
   "file_extension": ".py",
   "mimetype": "text/x-python",
   "name": "python",
   "nbconvert_exporter": "python",
   "pygments_lexer": "ipython3",
   "version": "3.7.6"
  }
 },
 "nbformat": 4,
 "nbformat_minor": 4
}
